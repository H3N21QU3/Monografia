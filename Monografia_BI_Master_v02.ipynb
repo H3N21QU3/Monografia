{
  "nbformat": 4,
  "nbformat_minor": 0,
  "metadata": {
    "colab": {
      "name": "Monografia BI-Master v02",
      "provenance": [],
      "collapsed_sections": [],
      "include_colab_link": true
    },
    "kernelspec": {
      "name": "python3",
      "display_name": "Python 3"
    },
    "accelerator": "GPU"
  },
  "cells": [
    {
      "cell_type": "markdown",
      "metadata": {
        "id": "view-in-github",
        "colab_type": "text"
      },
      "source": [
        "<a href=\"https://colab.research.google.com/github/H3N21QU3/Monografia/blob/main/Monografia_BI_Master_v02.ipynb\" target=\"_parent\"><img src=\"https://colab.research.google.com/assets/colab-badge.svg\" alt=\"Open In Colab\"/></a>"
      ]
    },
    {
      "cell_type": "code",
      "metadata": {
        "id": "2npYJxUWKA_5"
      },
      "source": [
        "%matplotlib inline\n",
        "#Instalar biblioteca para visualizar dados para melhor entendimento. Plotar informação usando seaborn.\n",
        "#Fonte: \n",
        "# https://medium.com/datadriveninvestor/building-neural-network-using-keras-for-classification-3a3656c726c1\n",
        "import matplotlib.pyplot as plt\n",
        "import seaborn as sns\n",
        "sns.set_context('notebook')\n",
        "%config InlineBackend.figure_format = 'retina'\n"
      ],
      "execution_count": null,
      "outputs": []
    },
    {
      "cell_type": "code",
      "metadata": {
        "id": "CVQ2fUg5sz5k",
        "colab": {
          "base_uri": "https://localhost:8080/"
        },
        "outputId": "7a5c663c-c4a5-4b67-e304-7e851db60c2d"
      },
      "source": [
        "#Importar arquivos diretamente da competição - entrar na competição primeiro!\n",
        "#Inserir usuário e key recebida no arquivo .json entre aspas\n",
        "import os, fnmatch\n",
        "import zipfile\n",
        "os.environ['KAGGLE_USERNAME'] = \"calbuque\" # copiar do kaggle.json\n",
        "os.environ['KAGGLE_KEY'] = \"1d095380238ab91098d1126f5344eaf3\" # copiar do kaggle.json\n",
        "!kaggle competitions download -c chh-ola -p chh-ola\n",
        "#Os dados da competição ficarão no diretório /content/chh-ola\n",
        "os.chdir('/content/chh-ola')"
      ],
      "execution_count": null,
      "outputs": [
        {
          "output_type": "stream",
          "text": [
            "Warning: Looks like you're using an outdated API Version, please consider updating (server 1.5.12 / client 1.5.4)\n",
            "train.csv.zip: Skipping, found more recently modified local copy (use --force to force download)\n",
            "test.csv.zip: Skipping, found more recently modified local copy (use --force to force download)\n",
            "SampleSubmission.csv: Skipping, found more recently modified local copy (use --force to force download)\n"
          ],
          "name": "stdout"
        }
      ]
    },
    {
      "cell_type": "code",
      "metadata": {
        "id": "jnEc287yYxcQ",
        "colab": {
          "base_uri": "https://localhost:8080/"
        },
        "outputId": "926da153-5559-4370-c84a-8f8665323719"
      },
      "source": [
        "#Filtrar e abrir arquivos .zip\n",
        "listOfFiles = os.listdir('.')\n",
        "pattern = \"*.zip\"\n",
        "for file in listOfFiles:\n",
        "    if fnmatch.fnmatch(file, pattern):\n",
        "      print (file)\n",
        "      zip_ref = zipfile.ZipFile(file, 'r')\n",
        "      zip_ref.extractall()\n",
        "zip_ref.close()"
      ],
      "execution_count": null,
      "outputs": [
        {
          "output_type": "stream",
          "text": [
            "train.csv.zip\n",
            "test.csv.zip\n"
          ],
          "name": "stdout"
        }
      ]
    },
    {
      "cell_type": "code",
      "metadata": {
        "id": "9I3TOzyvJbJO"
      },
      "source": [
        "#Instalar biblioteca pandas_profiling se necessário\n",
        "#!pip install pandas_profiling"
      ],
      "execution_count": null,
      "outputs": []
    },
    {
      "cell_type": "code",
      "metadata": {
        "id": "66h7oMJv5Qgh"
      },
      "source": [
        "#Gerar numero aleatorio\n",
        "import time\n",
        "seconds = time.time()"
      ],
      "execution_count": null,
      "outputs": []
    },
    {
      "cell_type": "code",
      "metadata": {
        "id": "YvYljPlsjMYd",
        "colab": {
          "base_uri": "https://localhost:8080/"
        },
        "outputId": "005c8602-b2df-4d8f-cc6b-1a39de52c36a"
      },
      "source": [
        "#Instalar bibliotecas\n",
        "import pandas as pd\n",
        "import numpy as np\n",
        "import pandas_profiling as pp\n",
        "#Importar arquivo de treino\n",
        "dataset_train = pd.read_csv('train.csv')\n"
      ],
      "execution_count": null,
      "outputs": [
        {
          "output_type": "stream",
          "text": [
            "/usr/local/lib/python3.7/dist-packages/IPython/core/interactiveshell.py:2718: DtypeWarning: Columns (1,4,10) have mixed types.Specify dtype option on import or set low_memory=False.\n",
            "  interactivity=interactivity, compiler=compiler, result=result)\n"
          ],
          "name": "stderr"
        }
      ]
    },
    {
      "cell_type": "code",
      "metadata": {
        "id": "Kgkm7LvhnkXw",
        "colab": {
          "base_uri": "https://localhost:8080/"
        },
        "outputId": "87edd6db-2ecd-4348-d920-e0447eb160b5"
      },
      "source": [
        "#Verifir tipos importados por coluna\n",
        "dataset_train.dtypes"
      ],
      "execution_count": null,
      "outputs": [
        {
          "output_type": "execute_result",
          "data": {
            "text/plain": [
              "ID                          int64\n",
              "vendor+AF8-id              object\n",
              "pickup+AF8-loc            float64\n",
              "drop+AF8-loc              float64\n",
              "driver+AF8-tip             object\n",
              "mta+AF8-tax                object\n",
              "distance                  float64\n",
              "pickup+AF8-time            object\n",
              "drop+AF8-time              object\n",
              "num+AF8-passengers        float64\n",
              "toll+AF8-amount            object\n",
              "payment+AF8-method        float64\n",
              "rate+AF8-code             float64\n",
              "stored+AF8-flag            object\n",
              "extra+AF8-charges          object\n",
              "improvement+AF8-charge     object\n",
              "total+AF8-amount           object\n",
              "dtype: object"
            ]
          },
          "metadata": {
            "tags": []
          },
          "execution_count": 7
        }
      ]
    },
    {
      "cell_type": "code",
      "metadata": {
        "id": "xTuowLlndUc7",
        "colab": {
          "base_uri": "https://localhost:8080/",
          "height": 461
        },
        "outputId": "9a665d46-04a9-4928-c5d0-4fcfb3e4a738"
      },
      "source": [
        "#Analisar informação importada\n",
        "#vários casos de dado ausente e presença de sequencia de caracteres indesejada \"+AF8-\"\n",
        "dataset_train.describe(include='all')"
      ],
      "execution_count": null,
      "outputs": [
        {
          "output_type": "execute_result",
          "data": {
            "text/html": [
              "<div>\n",
              "<style scoped>\n",
              "    .dataframe tbody tr th:only-of-type {\n",
              "        vertical-align: middle;\n",
              "    }\n",
              "\n",
              "    .dataframe tbody tr th {\n",
              "        vertical-align: top;\n",
              "    }\n",
              "\n",
              "    .dataframe thead th {\n",
              "        text-align: right;\n",
              "    }\n",
              "</style>\n",
              "<table border=\"1\" class=\"dataframe\">\n",
              "  <thead>\n",
              "    <tr style=\"text-align: right;\">\n",
              "      <th></th>\n",
              "      <th>ID</th>\n",
              "      <th>vendor+AF8-id</th>\n",
              "      <th>pickup+AF8-loc</th>\n",
              "      <th>drop+AF8-loc</th>\n",
              "      <th>driver+AF8-tip</th>\n",
              "      <th>mta+AF8-tax</th>\n",
              "      <th>distance</th>\n",
              "      <th>pickup+AF8-time</th>\n",
              "      <th>drop+AF8-time</th>\n",
              "      <th>num+AF8-passengers</th>\n",
              "      <th>toll+AF8-amount</th>\n",
              "      <th>payment+AF8-method</th>\n",
              "      <th>rate+AF8-code</th>\n",
              "      <th>stored+AF8-flag</th>\n",
              "      <th>extra+AF8-charges</th>\n",
              "      <th>improvement+AF8-charge</th>\n",
              "      <th>total+AF8-amount</th>\n",
              "    </tr>\n",
              "  </thead>\n",
              "  <tbody>\n",
              "    <tr>\n",
              "      <th>count</th>\n",
              "      <td>1.048575e+06</td>\n",
              "      <td>1048575.0</td>\n",
              "      <td>1.048574e+06</td>\n",
              "      <td>1.048574e+06</td>\n",
              "      <td>1048573.0</td>\n",
              "      <td>1048574</td>\n",
              "      <td>1.048574e+06</td>\n",
              "      <td>1048574</td>\n",
              "      <td>1048574</td>\n",
              "      <td>1.048574e+06</td>\n",
              "      <td>1048573.0</td>\n",
              "      <td>1.048574e+06</td>\n",
              "      <td>1.048574e+06</td>\n",
              "      <td>1048574</td>\n",
              "      <td>1048574</td>\n",
              "      <td>1048573</td>\n",
              "      <td>1048573</td>\n",
              "    </tr>\n",
              "    <tr>\n",
              "      <th>unique</th>\n",
              "      <td>NaN</td>\n",
              "      <td>5.0</td>\n",
              "      <td>NaN</td>\n",
              "      <td>NaN</td>\n",
              "      <td>3578.0</td>\n",
              "      <td>4</td>\n",
              "      <td>NaN</td>\n",
              "      <td>323725</td>\n",
              "      <td>326900</td>\n",
              "      <td>NaN</td>\n",
              "      <td>490.0</td>\n",
              "      <td>NaN</td>\n",
              "      <td>NaN</td>\n",
              "      <td>2</td>\n",
              "      <td>15</td>\n",
              "      <td>3</td>\n",
              "      <td>6106</td>\n",
              "    </tr>\n",
              "    <tr>\n",
              "      <th>top</th>\n",
              "      <td>NaN</td>\n",
              "      <td>2.0</td>\n",
              "      <td>NaN</td>\n",
              "      <td>NaN</td>\n",
              "      <td>0.0</td>\n",
              "      <td>0.5</td>\n",
              "      <td>NaN</td>\n",
              "      <td>04/05/2017 11:14:23 PM</td>\n",
              "      <td>04/05/2017 12:00:00 AM</td>\n",
              "      <td>NaN</td>\n",
              "      <td>0.0</td>\n",
              "      <td>NaN</td>\n",
              "      <td>NaN</td>\n",
              "      <td>N</td>\n",
              "      <td>0</td>\n",
              "      <td>0.3</td>\n",
              "      <td>7.8</td>\n",
              "    </tr>\n",
              "    <tr>\n",
              "      <th>freq</th>\n",
              "      <td>NaN</td>\n",
              "      <td>549963.0</td>\n",
              "      <td>NaN</td>\n",
              "      <td>NaN</td>\n",
              "      <td>219673.0</td>\n",
              "      <td>1042799</td>\n",
              "      <td>NaN</td>\n",
              "      <td>16</td>\n",
              "      <td>38</td>\n",
              "      <td>NaN</td>\n",
              "      <td>929513.0</td>\n",
              "      <td>NaN</td>\n",
              "      <td>NaN</td>\n",
              "      <td>1041404</td>\n",
              "      <td>573702</td>\n",
              "      <td>1047768</td>\n",
              "      <td>24068</td>\n",
              "    </tr>\n",
              "    <tr>\n",
              "      <th>mean</th>\n",
              "      <td>5.242870e+05</td>\n",
              "      <td>NaN</td>\n",
              "      <td>1.648085e+02</td>\n",
              "      <td>1.626675e+02</td>\n",
              "      <td>NaN</td>\n",
              "      <td>NaN</td>\n",
              "      <td>2.859832e+00</td>\n",
              "      <td>NaN</td>\n",
              "      <td>NaN</td>\n",
              "      <td>1.590696e+00</td>\n",
              "      <td>NaN</td>\n",
              "      <td>1.317943e+00</td>\n",
              "      <td>1.043368e+00</td>\n",
              "      <td>NaN</td>\n",
              "      <td>NaN</td>\n",
              "      <td>NaN</td>\n",
              "      <td>NaN</td>\n",
              "    </tr>\n",
              "    <tr>\n",
              "      <th>std</th>\n",
              "      <td>3.026977e+05</td>\n",
              "      <td>NaN</td>\n",
              "      <td>6.579282e+01</td>\n",
              "      <td>6.953073e+01</td>\n",
              "      <td>NaN</td>\n",
              "      <td>NaN</td>\n",
              "      <td>3.709541e+00</td>\n",
              "      <td>NaN</td>\n",
              "      <td>NaN</td>\n",
              "      <td>1.253700e+00</td>\n",
              "      <td>NaN</td>\n",
              "      <td>4.853266e-01</td>\n",
              "      <td>5.621114e-01</td>\n",
              "      <td>NaN</td>\n",
              "      <td>NaN</td>\n",
              "      <td>NaN</td>\n",
              "      <td>NaN</td>\n",
              "    </tr>\n",
              "    <tr>\n",
              "      <th>min</th>\n",
              "      <td>0.000000e+00</td>\n",
              "      <td>NaN</td>\n",
              "      <td>1.000000e+00</td>\n",
              "      <td>1.000000e+00</td>\n",
              "      <td>NaN</td>\n",
              "      <td>NaN</td>\n",
              "      <td>0.000000e+00</td>\n",
              "      <td>NaN</td>\n",
              "      <td>NaN</td>\n",
              "      <td>0.000000e+00</td>\n",
              "      <td>NaN</td>\n",
              "      <td>1.000000e+00</td>\n",
              "      <td>1.000000e+00</td>\n",
              "      <td>NaN</td>\n",
              "      <td>NaN</td>\n",
              "      <td>NaN</td>\n",
              "      <td>NaN</td>\n",
              "    </tr>\n",
              "    <tr>\n",
              "      <th>25%</th>\n",
              "      <td>2.621435e+05</td>\n",
              "      <td>NaN</td>\n",
              "      <td>1.250000e+02</td>\n",
              "      <td>1.130000e+02</td>\n",
              "      <td>NaN</td>\n",
              "      <td>NaN</td>\n",
              "      <td>9.300000e-01</td>\n",
              "      <td>NaN</td>\n",
              "      <td>NaN</td>\n",
              "      <td>1.000000e+00</td>\n",
              "      <td>NaN</td>\n",
              "      <td>1.000000e+00</td>\n",
              "      <td>1.000000e+00</td>\n",
              "      <td>NaN</td>\n",
              "      <td>NaN</td>\n",
              "      <td>NaN</td>\n",
              "      <td>NaN</td>\n",
              "    </tr>\n",
              "    <tr>\n",
              "      <th>50%</th>\n",
              "      <td>5.242870e+05</td>\n",
              "      <td>NaN</td>\n",
              "      <td>1.620000e+02</td>\n",
              "      <td>1.620000e+02</td>\n",
              "      <td>NaN</td>\n",
              "      <td>NaN</td>\n",
              "      <td>1.600000e+00</td>\n",
              "      <td>NaN</td>\n",
              "      <td>NaN</td>\n",
              "      <td>1.000000e+00</td>\n",
              "      <td>NaN</td>\n",
              "      <td>1.000000e+00</td>\n",
              "      <td>1.000000e+00</td>\n",
              "      <td>NaN</td>\n",
              "      <td>NaN</td>\n",
              "      <td>NaN</td>\n",
              "      <td>NaN</td>\n",
              "    </tr>\n",
              "    <tr>\n",
              "      <th>75%</th>\n",
              "      <td>7.864305e+05</td>\n",
              "      <td>NaN</td>\n",
              "      <td>2.330000e+02</td>\n",
              "      <td>2.330000e+02</td>\n",
              "      <td>NaN</td>\n",
              "      <td>NaN</td>\n",
              "      <td>2.900000e+00</td>\n",
              "      <td>NaN</td>\n",
              "      <td>NaN</td>\n",
              "      <td>2.000000e+00</td>\n",
              "      <td>NaN</td>\n",
              "      <td>2.000000e+00</td>\n",
              "      <td>1.000000e+00</td>\n",
              "      <td>NaN</td>\n",
              "      <td>NaN</td>\n",
              "      <td>NaN</td>\n",
              "      <td>NaN</td>\n",
              "    </tr>\n",
              "    <tr>\n",
              "      <th>max</th>\n",
              "      <td>1.048574e+06</td>\n",
              "      <td>NaN</td>\n",
              "      <td>2.650000e+02</td>\n",
              "      <td>2.650000e+02</td>\n",
              "      <td>NaN</td>\n",
              "      <td>NaN</td>\n",
              "      <td>1.138000e+02</td>\n",
              "      <td>NaN</td>\n",
              "      <td>NaN</td>\n",
              "      <td>9.000000e+00</td>\n",
              "      <td>NaN</td>\n",
              "      <td>4.000000e+00</td>\n",
              "      <td>9.900000e+01</td>\n",
              "      <td>NaN</td>\n",
              "      <td>NaN</td>\n",
              "      <td>NaN</td>\n",
              "      <td>NaN</td>\n",
              "    </tr>\n",
              "  </tbody>\n",
              "</table>\n",
              "</div>"
            ],
            "text/plain": [
              "                  ID  vendor+AF8-id  ...  improvement+AF8-charge  total+AF8-amount\n",
              "count   1.048575e+06      1048575.0  ...                 1048573           1048573\n",
              "unique           NaN            5.0  ...                       3              6106\n",
              "top              NaN            2.0  ...                     0.3               7.8\n",
              "freq             NaN       549963.0  ...                 1047768             24068\n",
              "mean    5.242870e+05            NaN  ...                     NaN               NaN\n",
              "std     3.026977e+05            NaN  ...                     NaN               NaN\n",
              "min     0.000000e+00            NaN  ...                     NaN               NaN\n",
              "25%     2.621435e+05            NaN  ...                     NaN               NaN\n",
              "50%     5.242870e+05            NaN  ...                     NaN               NaN\n",
              "75%     7.864305e+05            NaN  ...                     NaN               NaN\n",
              "max     1.048574e+06            NaN  ...                     NaN               NaN\n",
              "\n",
              "[11 rows x 17 columns]"
            ]
          },
          "metadata": {
            "tags": []
          },
          "execution_count": 8
        }
      ]
    },
    {
      "cell_type": "code",
      "metadata": {
        "id": "Onq5VnEX1Nui"
      },
      "source": [
        "#Importar dados de teste\n",
        "dataset_test = pd.read_csv('test.csv')\n",
        "dataset_test.dtypes   # nao tem total amount - variável a ser inferida\n",
        "dataset_test['totalamount'] = 0.0 # colocando essa coluna para ter mesmas colunas do treinamento - facilita tratamento. \n",
        "                                  # Remover quando separar depois de tratamento"
      ],
      "execution_count": null,
      "outputs": []
    },
    {
      "cell_type": "code",
      "metadata": {
        "id": "PTFOiROA3ZH6"
      },
      "source": [
        "# Limpeza de caracteres indesejados \"+AF8-\"\n",
        "# !sed 's/\\+AF8-//g' train.csv > train.csv\n",
        "# Não utilizei -----------------------------------------------------------------------------------\n"
      ],
      "execution_count": null,
      "outputs": []
    },
    {
      "cell_type": "code",
      "metadata": {
        "id": "u6luNpHL44tN"
      },
      "source": [
        "#Criar coluna que permita distinguir entre treino e teste. Ao concatenar as duas tabelas pode-se unificar o tratamento\n",
        "dataset_train['treino'] = 1\n",
        "dataset_test['treino'] = 0"
      ],
      "execution_count": null,
      "outputs": []
    },
    {
      "cell_type": "code",
      "metadata": {
        "id": "C24eITxn79Pc",
        "colab": {
          "base_uri": "https://localhost:8080/"
        },
        "outputId": "6223001e-764d-4465-e6d7-b76f3576458c"
      },
      "source": [
        "#Renomear colunas para facilitar analise\n",
        "dataset_test.rename(columns={\"vendor_id\" : \"vendorid\"},inplace = True)\n",
        "dataset_test.rename(columns={\"pickup_loc\" : \"pickuploc\"},inplace = True)\n",
        "dataset_test.rename(columns={\"drop_loc\" : \"droploc\"},inplace = True)\n",
        "dataset_test.rename(columns={\"driver_tip\" : \"drivertip\"},inplace = True)\n",
        "dataset_test.rename(columns={\"mta_tax\" : \"mtatax\"},inplace = True)\n",
        "dataset_test.rename(columns={\"distance\" : \"distance\"},inplace = True)\n",
        "dataset_test.rename(columns={\"pickup_time\" : \"pickuptime\"},inplace = True)\n",
        "dataset_test.rename(columns={\"drop_time\" : \"droptime\"},inplace = True)\n",
        "dataset_test.rename(columns={\"num_passengers\" : \"numpassengers\"},inplace = True)\n",
        "dataset_test.rename(columns={\"toll_amount\" : \"tollamount\"},inplace = True)\n",
        "dataset_test.rename(columns={\"payment_method\" : \"paymentmethod\"},inplace = True)\n",
        "dataset_test.rename(columns={\"rate_code\" : \"ratecode\"},inplace = True)\n",
        "dataset_test.rename(columns={\"stored_flag\" : \"storedflag\"},inplace = True)\n",
        "dataset_test.rename(columns={\"extra_charges\" : \"extracharges\"},inplace = True)\n",
        "dataset_test.rename(columns={\"improvement_charge\" : \"improvementcharge\"},inplace = True)\n",
        "#dataset_test.rename(columns={\"totalamount\" : \"totalamount\"},inplace = True)\n",
        "dataset_test.dtypes"
      ],
      "execution_count": null,
      "outputs": [
        {
          "output_type": "execute_result",
          "data": {
            "text/plain": [
              "ID                     int64\n",
              "vendorid               int64\n",
              "pickuploc            float64\n",
              "droploc              float64\n",
              "drivertip            float64\n",
              "mtatax               float64\n",
              "distance             float64\n",
              "pickuptime            object\n",
              "droptime              object\n",
              "numpassengers        float64\n",
              "tollamount           float64\n",
              "paymentmethod        float64\n",
              "ratecode             float64\n",
              "storedflag            object\n",
              "extracharges         float64\n",
              "improvementcharge    float64\n",
              "totalamount          float64\n",
              "treino                 int64\n",
              "dtype: object"
            ]
          },
          "metadata": {
            "tags": []
          },
          "execution_count": 12
        }
      ]
    },
    {
      "cell_type": "code",
      "metadata": {
        "id": "A6xTX1nYuPrT",
        "colab": {
          "base_uri": "https://localhost:8080/"
        },
        "outputId": "0caa043a-111e-4f38-c5c8-5b8132e57c72"
      },
      "source": [
        "#Verificar tamanho do dataset de teste de modo a detectar caso algum dado se perca\n",
        "dataset_test.shape #teste não pode perder linhas"
      ],
      "execution_count": null,
      "outputs": [
        {
          "output_type": "execute_result",
          "data": {
            "text/plain": [
              "(154235, 18)"
            ]
          },
          "metadata": {
            "tags": []
          },
          "execution_count": 13
        }
      ]
    },
    {
      "cell_type": "code",
      "metadata": {
        "id": "_derhz2dslOp",
        "colab": {
          "base_uri": "https://localhost:8080/"
        },
        "outputId": "4e45008a-14cb-455d-ed1a-9811e2a11ad1"
      },
      "source": [
        "#Renomear dataset de treino e igualar nomes com o dataset de teste\n",
        "\n",
        "dataset_train.rename(columns={\"vendor+AF8-id\" : \"vendorid\"},inplace = True)\n",
        "dataset_train.rename(columns={\"pickup+AF8-loc\" : \"pickuploc\"},inplace = True)\n",
        "dataset_train.rename(columns={\"drop+AF8-loc\" : \"droploc\"},inplace = True)\n",
        "dataset_train.rename(columns={\"driver+AF8-tip\" : \"drivertip\"},inplace = True)\n",
        "dataset_train.rename(columns={\"mta+AF8-tax\" : \"mtatax\"},inplace = True)\n",
        "dataset_train.rename(columns={\"distance\" : \"distance\"},inplace = True)\n",
        "dataset_train.rename(columns={\"pickup+AF8-time\" : \"pickuptime\"},inplace = True)\n",
        "dataset_train.rename(columns={\"drop+AF8-time\" : \"droptime\"},inplace = True)\n",
        "dataset_train.rename(columns={\"num+AF8-passengers\" : \"numpassengers\"},inplace = True)\n",
        "dataset_train.rename(columns={\"toll+AF8-amount\" : \"tollamount\"},inplace = True)\n",
        "dataset_train.rename(columns={\"payment+AF8-method\" : \"paymentmethod\"},inplace = True)\n",
        "dataset_train.rename(columns={\"rate+AF8-code\" : \"ratecode\"},inplace = True)\n",
        "dataset_train.rename(columns={\"stored+AF8-flag\" : \"storedflag\"},inplace = True)\n",
        "dataset_train.rename(columns={\"extra+AF8-charges\" : \"extracharges\"},inplace = True)\n",
        "dataset_train.rename(columns={\"improvement+AF8-charge\" : \"improvementcharge\"},inplace = True)\n",
        "dataset_train.rename(columns={\"total+AF8-amount\" : \"totalamount\"},inplace = True)\n",
        "dataset_train.dtypes"
      ],
      "execution_count": null,
      "outputs": [
        {
          "output_type": "execute_result",
          "data": {
            "text/plain": [
              "ID                     int64\n",
              "vendorid              object\n",
              "pickuploc            float64\n",
              "droploc              float64\n",
              "drivertip             object\n",
              "mtatax                object\n",
              "distance             float64\n",
              "pickuptime            object\n",
              "droptime              object\n",
              "numpassengers        float64\n",
              "tollamount            object\n",
              "paymentmethod        float64\n",
              "ratecode             float64\n",
              "storedflag            object\n",
              "extracharges          object\n",
              "improvementcharge     object\n",
              "totalamount           object\n",
              "treino                 int64\n",
              "dtype: object"
            ]
          },
          "metadata": {
            "tags": []
          },
          "execution_count": 14
        }
      ]
    },
    {
      "cell_type": "code",
      "metadata": {
        "id": "vMJ9M9cW9ccl",
        "colab": {
          "base_uri": "https://localhost:8080/"
        },
        "outputId": "a99a425c-8dca-4723-d7e6-012398a305b6"
      },
      "source": [
        "#Concatenar teste e treino em dataframe unico\n",
        "dataset_all = pd.concat([dataset_train, dataset_test], ignore_index=True)\n",
        "dataset_all.dtypes"
      ],
      "execution_count": null,
      "outputs": [
        {
          "output_type": "execute_result",
          "data": {
            "text/plain": [
              "ID                     int64\n",
              "vendorid              object\n",
              "pickuploc            float64\n",
              "droploc              float64\n",
              "drivertip             object\n",
              "mtatax                object\n",
              "distance             float64\n",
              "pickuptime            object\n",
              "droptime              object\n",
              "numpassengers        float64\n",
              "tollamount            object\n",
              "paymentmethod        float64\n",
              "ratecode             float64\n",
              "storedflag            object\n",
              "extracharges          object\n",
              "improvementcharge     object\n",
              "totalamount           object\n",
              "treino                 int64\n",
              "dtype: object"
            ]
          },
          "metadata": {
            "tags": []
          },
          "execution_count": 15
        }
      ]
    },
    {
      "cell_type": "code",
      "metadata": {
        "id": "rnEtVVvjACcJ"
      },
      "source": [
        "#Excluir datasets individuais de treino e teste\n",
        "del(dataset_train)\n",
        "del(dataset_test)"
      ],
      "execution_count": null,
      "outputs": []
    },
    {
      "cell_type": "code",
      "metadata": {
        "id": "CT_V5nRTrrJi",
        "colab": {
          "base_uri": "https://localhost:8080/"
        },
        "outputId": "ea3f36f4-d5c0-447a-fb80-b599ee9edb90"
      },
      "source": [
        "#Verificar se dataframe possui valores anômalos\n",
        "#Uma linha por vez teve comentário retirado e foi executada para analisar valores\n",
        "\n",
        "dataset_all.vendorid.unique() #há valores diferentes de 1 e 2 - sujeira no meu dataframe (\"+ACI-  +ACIAIg-status+ACIAIg- : 500+ACI-\")\n",
        "#dataset_all.drivertip.unique()\n",
        "#dataset_all.mtatax.unique()\n",
        "#dataset_all.tollamount.unique() #dados consertaveis\n",
        "#dataset_all.extracharges.unique() #dados consertaveis\n",
        "#dataset_all.improvementcharge.unique() #dados conserttáveis aqui tb\n",
        "#dataset_all.totalamount.unique()\n"
      ],
      "execution_count": null,
      "outputs": [
        {
          "output_type": "execute_result",
          "data": {
            "text/plain": [
              "array([1, 2, '1', '2', '+ACI-  +ACIAIg-status+ACIAIg- : 500+ACI-'],\n",
              "      dtype=object)"
            ]
          },
          "metadata": {
            "tags": []
          },
          "execution_count": 17
        }
      ]
    },
    {
      "cell_type": "code",
      "metadata": {
        "id": "quSnRM-rjmYc",
        "colab": {
          "base_uri": "https://localhost:8080/"
        },
        "outputId": "25f1381b-e1fd-4e56-d88c-b14295df96d9"
      },
      "source": [
        "# Analisar valores únicos em cada coluna para detectar anomalias (muitos linhas preenchidas com texto ao invés de número, ex: \"+AC0-0.5 \")\n",
        "# Fonte:\n",
        "# https://towardsdatascience.com/10-python-pandas-tricks-that-make-your-work-more-efficient-2e8e483808ba\n",
        "dataset_all.mtatax.value_counts()"
      ],
      "execution_count": null,
      "outputs": [
        {
          "output_type": "execute_result",
          "data": {
            "text/plain": [
              "0.5         1042799\n",
              "0.5          153421\n",
              "0              5269\n",
              "0.0             759\n",
              "+AC0-0.5        505\n",
              "-0.5             55\n",
              "0+AHs-            1\n",
              "Name: mtatax, dtype: int64"
            ]
          },
          "metadata": {
            "tags": []
          },
          "execution_count": 18
        }
      ]
    },
    {
      "cell_type": "code",
      "metadata": {
        "id": "nrhhARLTskQz",
        "colab": {
          "base_uri": "https://localhost:8080/"
        },
        "outputId": "e9dda8a3-baa8-4d87-9559-5d73bf52997b"
      },
      "source": [
        "# Limpar dataset dos valores anômalos nas colunas numéricas - método: deleçao\n",
        "# Não é viável reconstruir valor anterior\n",
        "dataset_all [\"vendorid\"] = pd.to_numeric(dataset_all[\"vendorid\"], errors=\"coerce\")\n",
        "dataset_all [\"drivertip\"] = pd.to_numeric(dataset_all[\"drivertip\"], errors=\"coerce\")\n",
        "dataset_all [\"mtatax\"] = pd.to_numeric(dataset_all[\"mtatax\"], errors=\"coerce\")\n",
        "dataset_all [\"tollamount\"] = pd.to_numeric(dataset_all[\"tollamount\"], errors=\"coerce\")\n",
        "dataset_all [\"extracharges\"] = pd.to_numeric(dataset_all[\"extracharges\"], errors=\"coerce\")\n",
        "dataset_all [\"improvementcharge\"] = pd.to_numeric(dataset_all[\"improvementcharge\"], errors=\"coerce\")\n",
        "dataset_all [\"totalamount\"] = pd.to_numeric(dataset_all[\"totalamount\"], errors=\"coerce\")\n",
        "dataset_all.dtypes"
      ],
      "execution_count": null,
      "outputs": [
        {
          "output_type": "execute_result",
          "data": {
            "text/plain": [
              "ID                     int64\n",
              "vendorid             float64\n",
              "pickuploc            float64\n",
              "droploc              float64\n",
              "drivertip            float64\n",
              "mtatax               float64\n",
              "distance             float64\n",
              "pickuptime            object\n",
              "droptime              object\n",
              "numpassengers        float64\n",
              "tollamount           float64\n",
              "paymentmethod        float64\n",
              "ratecode             float64\n",
              "storedflag            object\n",
              "extracharges         float64\n",
              "improvementcharge    float64\n",
              "totalamount          float64\n",
              "treino                 int64\n",
              "dtype: object"
            ]
          },
          "metadata": {
            "tags": []
          },
          "execution_count": 19
        }
      ]
    },
    {
      "cell_type": "code",
      "metadata": {
        "id": "I2B41icn8t5g"
      },
      "source": [
        "#Converter colunas 'pickuptime' e 'droptime' de objeto para formato datetime \n",
        "# Fonte:\n",
        "# https://www.geeksforgeeks.org/convert-the-column-type-from-string-to-datetime-format-in-pandas-dataframe/\n",
        "dataset_all['pickuptime']= pd.to_datetime(dataset_all['pickuptime']) \n",
        "dataset_all['droptime']= pd.to_datetime(dataset_all['droptime'])"
      ],
      "execution_count": null,
      "outputs": []
    },
    {
      "cell_type": "code",
      "metadata": {
        "id": "22U4wG-xsi2y",
        "colab": {
          "base_uri": "https://localhost:8080/"
        },
        "outputId": "4cab3a2c-1177-46a5-af00-a7677e3ba5c8"
      },
      "source": [
        "#Agrupar valores únicos para examinar eventuais valores inadequados\n",
        "#Cada linha teve comentário removido uma de cada vez e resultado analisado\n",
        "\n",
        "#dataset_all.vendorid.unique()\n",
        "#dataset_all.drivertip.unique()\n",
        "#dataset_all.mtatax.unique()       #array([1., 0.]) - converter para categoria e depois one hot encoder\n",
        "#dataset_all.tollamount.unique()\n",
        "#dataset_all.extracharges.unique()\n",
        "dataset_all.improvementcharge.unique() #array([1., 0.]) - converter para categoria e depois one hot encoder\n",
        "#dataset_all.totalamount.unique()\n",
        "#dataset_all.pickuptime.unique()\n",
        "#dataset_all.droptime.unique()\n",
        "#dataset_all.paymentmethod.unique()  #array([1., 2., 3., 4.]) - converter para categoria e depois one hot encoder\n",
        "#dataset_all.ratecode.unique()  #array([ 1.,  2.,  3.,  4.,  5., 99.,  6.]) - converter para categoria e depois one hot encoder\n",
        "#dataset_all.pickupmonth.unique()\n",
        "#dataset_all.head"
      ],
      "execution_count": null,
      "outputs": [
        {
          "output_type": "execute_result",
          "data": {
            "text/plain": [
              "array([ 0.3,  nan,  0. , -0.3])"
            ]
          },
          "metadata": {
            "tags": []
          },
          "execution_count": 21
        }
      ]
    },
    {
      "cell_type": "code",
      "metadata": {
        "id": "w6tZC5Rx3qYz",
        "colab": {
          "base_uri": "https://localhost:8080/"
        },
        "outputId": "be6c668e-2804-4fd2-fa7a-c8424c52ffad"
      },
      "source": [
        "#Extrair dia, mês e ano das colunas com tipo \"datetime\", criando novas colunas para inserir resultado\n",
        "#Extrair hora e dia da semana em busca de um possível padrão\n",
        "\n",
        "dataset_all['pickupday'] = dataset_all['pickuptime'].dt.day #extrair dia e colocar na coluna nova\n",
        "dataset_all['pickupmonth'] = dataset_all['pickuptime'].dt.month #extrair mes e colocar na coluna nova\n",
        "dataset_all['pickupyear'] = dataset_all['pickuptime'].dt.year #extrair year e colocar na coluna nova\n",
        "dataset_all['pickuphourinsecond'] = (dataset_all['pickuptime'].dt.hour*60 + dataset_all['pickuptime'].dt.minute)*60 + dataset_all['pickuptime'].dt.second\n",
        "dataset_all['pickupdayofweek'] = dataset_all['pickuptime'].dt.dayofweek\n",
        "\n",
        "#dataset_all.pickupyear.head\n",
        "dataset_all['dropday'] = dataset_all['droptime'].dt.day #extrair dia e colocar na coluna nova\n",
        "dataset_all['dropmonth'] = dataset_all['droptime'].dt.month #extrair mes e colocar na coluna nova\n",
        "dataset_all['dropyear'] = dataset_all['droptime'].dt.year #extrair year e colocar na coluna nova\n",
        "dataset_all['drophourinsecond'] = (dataset_all['droptime'].dt.hour*60 + dataset_all['droptime'].dt.minute)*60 + dataset_all['droptime'].dt.second\n",
        "\n",
        "#Realização de cálculo a partir das informações disponíveis - duração da viagem\n",
        "dataset_all['timedeltas'] = dataset_all['droptime'] - dataset_all['pickuptime']  #duração da viagem\n",
        "dataset_all['timedeltas'] = dataset_all['timedeltas'].dt.total_seconds() #converter para float !!\n",
        "\n",
        "dataset_all.timedeltas.head\n"
      ],
      "execution_count": null,
      "outputs": [
        {
          "output_type": "execute_result",
          "data": {
            "text/plain": [
              "<bound method NDFrame.head of 0           321.0\n",
              "1           990.0\n",
              "2           377.0\n",
              "3           968.0\n",
              "4           162.0\n",
              "            ...  \n",
              "1202805     960.0\n",
              "1202806     420.0\n",
              "1202807     285.0\n",
              "1202808     802.0\n",
              "1202809    1014.0\n",
              "Name: timedeltas, Length: 1202810, dtype: float64>"
            ]
          },
          "metadata": {
            "tags": []
          },
          "execution_count": 22
        }
      ]
    },
    {
      "cell_type": "code",
      "metadata": {
        "id": "DbMwxT03RF5e",
        "colab": {
          "base_uri": "https://localhost:8080/"
        },
        "outputId": "164f559e-5717-4d9a-c7b3-a297f63dfe99"
      },
      "source": [
        "# Excluir colunas com tipo \"datetime\"\n",
        "\n",
        "dataset_all = dataset_all.drop(\"pickuptime\", axis=1) #axis=1 --> column\n",
        "dataset_all = dataset_all.drop(\"droptime\", axis=1) #axis=1 --> column\n",
        "dataset_all.dtypes\n",
        "\n"
      ],
      "execution_count": null,
      "outputs": [
        {
          "output_type": "execute_result",
          "data": {
            "text/plain": [
              "ID                      int64\n",
              "vendorid              float64\n",
              "pickuploc             float64\n",
              "droploc               float64\n",
              "drivertip             float64\n",
              "mtatax                float64\n",
              "distance              float64\n",
              "numpassengers         float64\n",
              "tollamount            float64\n",
              "paymentmethod         float64\n",
              "ratecode              float64\n",
              "storedflag             object\n",
              "extracharges          float64\n",
              "improvementcharge     float64\n",
              "totalamount           float64\n",
              "treino                  int64\n",
              "pickupday             float64\n",
              "pickupmonth           float64\n",
              "pickupyear            float64\n",
              "pickuphourinsecond    float64\n",
              "pickupdayofweek       float64\n",
              "dropday               float64\n",
              "dropmonth             float64\n",
              "dropyear              float64\n",
              "drophourinsecond      float64\n",
              "timedeltas            float64\n",
              "dtype: object"
            ]
          },
          "metadata": {
            "tags": []
          },
          "execution_count": 23
        }
      ]
    },
    {
      "cell_type": "code",
      "metadata": {
        "id": "9n4m4gLbSVG0"
      },
      "source": [
        "# Excluir linhas com algum dado vazio\n",
        "dataset_all.dropna(axis=0, how='any', thresh=None, subset=None, inplace=False)\n",
        "\n",
        "# Excluir linhas com valor 'nan'. \n",
        "dataset_all.dropna(inplace = True) \n"
      ],
      "execution_count": null,
      "outputs": []
    },
    {
      "cell_type": "code",
      "metadata": {
        "id": "KVaP0sML0L8s"
      },
      "source": [
        "# Transformar colunas com valor não numérico (categórico) em one hot encoder\n",
        "# Uma das colunas é excluída por ter alta correlação com as restantes drop_first=True\n",
        "# Fonte:\n",
        "# http://www.insightsbot.com/blog/zuyVu/python-one-hot-encoding-with-pandas-made-simple\n",
        "dataset_all['vendorid'] = pd.Categorical(dataset_all['vendorid']) # define coluna como tipo categoria\n",
        "dfTemp = pd.get_dummies(dataset_all['vendorid'], prefix = 'cat', drop_first=True) # faz a transformação da coluna em varias e salva em outro DF\n",
        "dataset_all = pd.concat([dataset_all, dfTemp], axis=1) # junta os dois dataframes\n",
        "dataset_all = dataset_all.drop(\"vendorid\", axis=1) #axis=1 --> column"
      ],
      "execution_count": null,
      "outputs": []
    },
    {
      "cell_type": "code",
      "metadata": {
        "id": "6KYkmvyNNn5t"
      },
      "source": [
        "dataset_all['storedflag'] = pd.Categorical(dataset_all['storedflag']) # define coluna como tipo categoria\n",
        "dfTemp = pd.get_dummies(dataset_all['storedflag'], prefix = 'flag', drop_first=True) # faz a transformação da coluna em varias e salva em outro DF\n",
        "dataset_all = pd.concat([dataset_all, dfTemp], axis=1) # junta os dois dataframes\n",
        "dataset_all = dataset_all.drop(\"storedflag\", axis=1) #axis=1 --> column"
      ],
      "execution_count": null,
      "outputs": []
    },
    {
      "cell_type": "code",
      "metadata": {
        "id": "f9soLp75nMhD"
      },
      "source": [
        "dataset_all['mtatax'] = pd.Categorical(dataset_all['mtatax']) # define coluna como tipo categoria\n",
        "dfTemp = pd.get_dummies(dataset_all['mtatax'], prefix = 'mtatax', drop_first=True) # faz a transformação da coluna em varias e salva em outro DF\n",
        "dataset_all = pd.concat([dataset_all, dfTemp], axis=1) # junta os dois dataframes\n",
        "dataset_all = dataset_all.drop(\"mtatax\", axis=1) #axis=1 --> column #apaga coluna antiga"
      ],
      "execution_count": null,
      "outputs": []
    },
    {
      "cell_type": "code",
      "metadata": {
        "id": "YMZk_8eAbA5h"
      },
      "source": [
        "dataset_all['improvementcharge'] = pd.Categorical(dataset_all['improvementcharge']) # define coluna como tipo categoria\n",
        "dfTemp = pd.get_dummies(dataset_all['improvementcharge'], prefix = 'improvmtcharge', drop_first=True) # faz a transformação da coluna em varias e salva em outro DF\n",
        "dataset_all = pd.concat([dataset_all, dfTemp], axis=1) # junta os dois dataframes\n",
        "dataset_all = dataset_all.drop(\"improvementcharge\", axis=1) #axis=1 --> column #apaga coluna antiga"
      ],
      "execution_count": null,
      "outputs": []
    },
    {
      "cell_type": "code",
      "metadata": {
        "id": "snLny6rQbctR"
      },
      "source": [
        "dataset_all['paymentmethod'] = pd.Categorical(dataset_all['paymentmethod']) # define coluna como tipo categoria\n",
        "dfTemp = pd.get_dummies(dataset_all['paymentmethod'], prefix = 'paymethod', drop_first=True) # faz a transformação da coluna em varias e salva em outro DF\n",
        "dataset_all = pd.concat([dataset_all, dfTemp], axis=1) # junta os dois dataframes\n",
        "dataset_all = dataset_all.drop(\"paymentmethod\", axis=1) #axis=1 --> column #apaga coluna antiga"
      ],
      "execution_count": null,
      "outputs": []
    },
    {
      "cell_type": "code",
      "metadata": {
        "id": "4oSBSel4cMYL"
      },
      "source": [
        "dataset_all['ratecode'] = pd.Categorical(dataset_all['ratecode']) # define coluna como tipo categoria\n",
        "dfTemp = pd.get_dummies(dataset_all['ratecode'], prefix = 'ratecode', drop_first=True) # faz a transformação da coluna em varias e salva em outro DF\n",
        "dataset_all = pd.concat([dataset_all, dfTemp], axis=1) # junta os dois dataframes\n",
        "dataset_all = dataset_all.drop(\"ratecode\", axis=1) #axis=1 --> column #apaga coluna antiga"
      ],
      "execution_count": null,
      "outputs": []
    },
    {
      "cell_type": "code",
      "metadata": {
        "id": "Eyzb7aGiH1WL"
      },
      "source": [
        "dataset_all['pickupdayofweek'] = pd.Categorical(dataset_all['pickupdayofweek']) # define coluna como tipo categoria\n",
        "dfTemp = pd.get_dummies(dataset_all['pickupdayofweek'], prefix = 'pickupdayofweek', drop_first=True) # faz a transformação da coluna em varias e salva em outro DF\n",
        "dataset_all = pd.concat([dataset_all, dfTemp], axis=1) # junta os dois dataframes\n",
        "dataset_all = dataset_all.drop(\"pickupdayofweek\", axis=1) #axis=1 --> column #apaga coluna antiga"
      ],
      "execution_count": null,
      "outputs": []
    },
    {
      "cell_type": "code",
      "metadata": {
        "id": "JbbP4xmQ2cGa"
      },
      "source": [
        "#Excluindo colunas que não serão mais utilizadas\n",
        "\n",
        "dataset_all = dataset_all.drop(\"pickupmonth\", axis=1) #axis=1 --> base abrange mesmo mês e ano\n",
        "dataset_all = dataset_all.drop(\"pickupyear\", axis=1) #axis=1 --> base abrange mesmo mês e ano\n",
        "dataset_all = dataset_all.drop(\"dropmonth\", axis=1) #axis=1 --> base abrange mesmo mês e ano\n",
        "dataset_all = dataset_all.drop(\"dropyear\", axis=1) #axis=1 --> base abrange mesmo mês e ano\n",
        "dataset_all = dataset_all.drop(\"pickuploc\", axis=1) #axis=1 --> número não representa informação útil para modelo - sendo suplantando pela info de distância\n",
        "dataset_all = dataset_all.drop(\"droploc\", axis=1) #axis=1 --> número não representa informação útil para modelo - sendo suplantando pela info de distância\n"
      ],
      "execution_count": null,
      "outputs": []
    },
    {
      "cell_type": "code",
      "metadata": {
        "id": "Zv4oR5rwmiUw",
        "colab": {
          "base_uri": "https://localhost:8080/",
          "height": 439
        },
        "outputId": "76d4ee49-6bd7-46ff-c1e8-86148bb92774"
      },
      "source": [
        "#Visualizar dataframe resultante\n",
        "dataset_all"
      ],
      "execution_count": null,
      "outputs": [
        {
          "output_type": "execute_result",
          "data": {
            "text/html": [
              "<div>\n",
              "<style scoped>\n",
              "    .dataframe tbody tr th:only-of-type {\n",
              "        vertical-align: middle;\n",
              "    }\n",
              "\n",
              "    .dataframe tbody tr th {\n",
              "        vertical-align: top;\n",
              "    }\n",
              "\n",
              "    .dataframe thead th {\n",
              "        text-align: right;\n",
              "    }\n",
              "</style>\n",
              "<table border=\"1\" class=\"dataframe\">\n",
              "  <thead>\n",
              "    <tr style=\"text-align: right;\">\n",
              "      <th></th>\n",
              "      <th>ID</th>\n",
              "      <th>drivertip</th>\n",
              "      <th>distance</th>\n",
              "      <th>numpassengers</th>\n",
              "      <th>tollamount</th>\n",
              "      <th>extracharges</th>\n",
              "      <th>totalamount</th>\n",
              "      <th>treino</th>\n",
              "      <th>pickupday</th>\n",
              "      <th>pickuphourinsecond</th>\n",
              "      <th>dropday</th>\n",
              "      <th>drophourinsecond</th>\n",
              "      <th>timedeltas</th>\n",
              "      <th>cat_2.0</th>\n",
              "      <th>flag_Y</th>\n",
              "      <th>mtatax_0.0</th>\n",
              "      <th>mtatax_0.5</th>\n",
              "      <th>improvmtcharge_0.0</th>\n",
              "      <th>improvmtcharge_0.3</th>\n",
              "      <th>paymethod_2.0</th>\n",
              "      <th>paymethod_3.0</th>\n",
              "      <th>paymethod_4.0</th>\n",
              "      <th>ratecode_2.0</th>\n",
              "      <th>ratecode_3.0</th>\n",
              "      <th>ratecode_4.0</th>\n",
              "      <th>ratecode_5.0</th>\n",
              "      <th>ratecode_6.0</th>\n",
              "      <th>ratecode_99.0</th>\n",
              "      <th>pickupdayofweek_1.0</th>\n",
              "      <th>pickupdayofweek_2.0</th>\n",
              "      <th>pickupdayofweek_3.0</th>\n",
              "      <th>pickupdayofweek_4.0</th>\n",
              "      <th>pickupdayofweek_6.0</th>\n",
              "    </tr>\n",
              "  </thead>\n",
              "  <tbody>\n",
              "    <tr>\n",
              "      <th>0</th>\n",
              "      <td>0</td>\n",
              "      <td>1.83</td>\n",
              "      <td>0.70</td>\n",
              "      <td>1.0</td>\n",
              "      <td>0.0</td>\n",
              "      <td>1.0</td>\n",
              "      <td>9.13</td>\n",
              "      <td>1</td>\n",
              "      <td>4.0</td>\n",
              "      <td>64783.0</td>\n",
              "      <td>4.0</td>\n",
              "      <td>65104.0</td>\n",
              "      <td>321.0</td>\n",
              "      <td>0</td>\n",
              "      <td>0</td>\n",
              "      <td>0</td>\n",
              "      <td>1</td>\n",
              "      <td>0</td>\n",
              "      <td>1</td>\n",
              "      <td>0</td>\n",
              "      <td>0</td>\n",
              "      <td>0</td>\n",
              "      <td>0</td>\n",
              "      <td>0</td>\n",
              "      <td>0</td>\n",
              "      <td>0</td>\n",
              "      <td>0</td>\n",
              "      <td>0</td>\n",
              "      <td>1</td>\n",
              "      <td>0</td>\n",
              "      <td>0</td>\n",
              "      <td>0</td>\n",
              "      <td>0</td>\n",
              "    </tr>\n",
              "    <tr>\n",
              "      <th>1</th>\n",
              "      <td>1</td>\n",
              "      <td>3.56</td>\n",
              "      <td>4.64</td>\n",
              "      <td>1.0</td>\n",
              "      <td>0.0</td>\n",
              "      <td>1.0</td>\n",
              "      <td>21.36</td>\n",
              "      <td>1</td>\n",
              "      <td>3.0</td>\n",
              "      <td>68614.0</td>\n",
              "      <td>3.0</td>\n",
              "      <td>69604.0</td>\n",
              "      <td>990.0</td>\n",
              "      <td>1</td>\n",
              "      <td>0</td>\n",
              "      <td>0</td>\n",
              "      <td>1</td>\n",
              "      <td>0</td>\n",
              "      <td>1</td>\n",
              "      <td>0</td>\n",
              "      <td>0</td>\n",
              "      <td>0</td>\n",
              "      <td>0</td>\n",
              "      <td>0</td>\n",
              "      <td>0</td>\n",
              "      <td>0</td>\n",
              "      <td>0</td>\n",
              "      <td>0</td>\n",
              "      <td>0</td>\n",
              "      <td>0</td>\n",
              "      <td>0</td>\n",
              "      <td>0</td>\n",
              "      <td>0</td>\n",
              "    </tr>\n",
              "    <tr>\n",
              "      <th>2</th>\n",
              "      <td>2</td>\n",
              "      <td>1.50</td>\n",
              "      <td>1.29</td>\n",
              "      <td>2.0</td>\n",
              "      <td>0.0</td>\n",
              "      <td>0.0</td>\n",
              "      <td>8.80</td>\n",
              "      <td>1</td>\n",
              "      <td>3.0</td>\n",
              "      <td>54373.0</td>\n",
              "      <td>3.0</td>\n",
              "      <td>54750.0</td>\n",
              "      <td>377.0</td>\n",
              "      <td>1</td>\n",
              "      <td>0</td>\n",
              "      <td>0</td>\n",
              "      <td>1</td>\n",
              "      <td>0</td>\n",
              "      <td>1</td>\n",
              "      <td>0</td>\n",
              "      <td>0</td>\n",
              "      <td>0</td>\n",
              "      <td>0</td>\n",
              "      <td>0</td>\n",
              "      <td>0</td>\n",
              "      <td>0</td>\n",
              "      <td>0</td>\n",
              "      <td>0</td>\n",
              "      <td>0</td>\n",
              "      <td>0</td>\n",
              "      <td>0</td>\n",
              "      <td>0</td>\n",
              "      <td>0</td>\n",
              "    </tr>\n",
              "    <tr>\n",
              "      <th>3</th>\n",
              "      <td>3</td>\n",
              "      <td>1.50</td>\n",
              "      <td>2.74</td>\n",
              "      <td>1.0</td>\n",
              "      <td>0.0</td>\n",
              "      <td>0.0</td>\n",
              "      <td>14.80</td>\n",
              "      <td>1</td>\n",
              "      <td>4.0</td>\n",
              "      <td>29452.0</td>\n",
              "      <td>4.0</td>\n",
              "      <td>30420.0</td>\n",
              "      <td>968.0</td>\n",
              "      <td>1</td>\n",
              "      <td>0</td>\n",
              "      <td>0</td>\n",
              "      <td>1</td>\n",
              "      <td>0</td>\n",
              "      <td>1</td>\n",
              "      <td>0</td>\n",
              "      <td>0</td>\n",
              "      <td>0</td>\n",
              "      <td>0</td>\n",
              "      <td>0</td>\n",
              "      <td>0</td>\n",
              "      <td>0</td>\n",
              "      <td>0</td>\n",
              "      <td>0</td>\n",
              "      <td>1</td>\n",
              "      <td>0</td>\n",
              "      <td>0</td>\n",
              "      <td>0</td>\n",
              "      <td>0</td>\n",
              "    </tr>\n",
              "    <tr>\n",
              "      <th>4</th>\n",
              "      <td>4</td>\n",
              "      <td>0.00</td>\n",
              "      <td>0.45</td>\n",
              "      <td>6.0</td>\n",
              "      <td>0.0</td>\n",
              "      <td>0.0</td>\n",
              "      <td>4.80</td>\n",
              "      <td>1</td>\n",
              "      <td>5.0</td>\n",
              "      <td>50579.0</td>\n",
              "      <td>5.0</td>\n",
              "      <td>50741.0</td>\n",
              "      <td>162.0</td>\n",
              "      <td>1</td>\n",
              "      <td>0</td>\n",
              "      <td>0</td>\n",
              "      <td>1</td>\n",
              "      <td>0</td>\n",
              "      <td>1</td>\n",
              "      <td>1</td>\n",
              "      <td>0</td>\n",
              "      <td>0</td>\n",
              "      <td>0</td>\n",
              "      <td>0</td>\n",
              "      <td>0</td>\n",
              "      <td>0</td>\n",
              "      <td>0</td>\n",
              "      <td>0</td>\n",
              "      <td>0</td>\n",
              "      <td>1</td>\n",
              "      <td>0</td>\n",
              "      <td>0</td>\n",
              "      <td>0</td>\n",
              "    </tr>\n",
              "    <tr>\n",
              "      <th>...</th>\n",
              "      <td>...</td>\n",
              "      <td>...</td>\n",
              "      <td>...</td>\n",
              "      <td>...</td>\n",
              "      <td>...</td>\n",
              "      <td>...</td>\n",
              "      <td>...</td>\n",
              "      <td>...</td>\n",
              "      <td>...</td>\n",
              "      <td>...</td>\n",
              "      <td>...</td>\n",
              "      <td>...</td>\n",
              "      <td>...</td>\n",
              "      <td>...</td>\n",
              "      <td>...</td>\n",
              "      <td>...</td>\n",
              "      <td>...</td>\n",
              "      <td>...</td>\n",
              "      <td>...</td>\n",
              "      <td>...</td>\n",
              "      <td>...</td>\n",
              "      <td>...</td>\n",
              "      <td>...</td>\n",
              "      <td>...</td>\n",
              "      <td>...</td>\n",
              "      <td>...</td>\n",
              "      <td>...</td>\n",
              "      <td>...</td>\n",
              "      <td>...</td>\n",
              "      <td>...</td>\n",
              "      <td>...</td>\n",
              "      <td>...</td>\n",
              "      <td>...</td>\n",
              "    </tr>\n",
              "    <tr>\n",
              "      <th>1202805</th>\n",
              "      <td>154230</td>\n",
              "      <td>2.56</td>\n",
              "      <td>1.47</td>\n",
              "      <td>6.0</td>\n",
              "      <td>0.0</td>\n",
              "      <td>1.0</td>\n",
              "      <td>0.00</td>\n",
              "      <td>0</td>\n",
              "      <td>5.0</td>\n",
              "      <td>69449.0</td>\n",
              "      <td>5.0</td>\n",
              "      <td>70409.0</td>\n",
              "      <td>960.0</td>\n",
              "      <td>1</td>\n",
              "      <td>0</td>\n",
              "      <td>0</td>\n",
              "      <td>1</td>\n",
              "      <td>0</td>\n",
              "      <td>1</td>\n",
              "      <td>0</td>\n",
              "      <td>0</td>\n",
              "      <td>0</td>\n",
              "      <td>0</td>\n",
              "      <td>0</td>\n",
              "      <td>0</td>\n",
              "      <td>0</td>\n",
              "      <td>0</td>\n",
              "      <td>0</td>\n",
              "      <td>0</td>\n",
              "      <td>1</td>\n",
              "      <td>0</td>\n",
              "      <td>0</td>\n",
              "      <td>0</td>\n",
              "    </tr>\n",
              "    <tr>\n",
              "      <th>1202806</th>\n",
              "      <td>154231</td>\n",
              "      <td>1.00</td>\n",
              "      <td>1.10</td>\n",
              "      <td>2.0</td>\n",
              "      <td>0.0</td>\n",
              "      <td>0.0</td>\n",
              "      <td>0.00</td>\n",
              "      <td>0</td>\n",
              "      <td>5.0</td>\n",
              "      <td>46930.0</td>\n",
              "      <td>5.0</td>\n",
              "      <td>47350.0</td>\n",
              "      <td>420.0</td>\n",
              "      <td>0</td>\n",
              "      <td>0</td>\n",
              "      <td>0</td>\n",
              "      <td>1</td>\n",
              "      <td>0</td>\n",
              "      <td>1</td>\n",
              "      <td>0</td>\n",
              "      <td>0</td>\n",
              "      <td>0</td>\n",
              "      <td>0</td>\n",
              "      <td>0</td>\n",
              "      <td>0</td>\n",
              "      <td>0</td>\n",
              "      <td>0</td>\n",
              "      <td>0</td>\n",
              "      <td>0</td>\n",
              "      <td>1</td>\n",
              "      <td>0</td>\n",
              "      <td>0</td>\n",
              "      <td>0</td>\n",
              "    </tr>\n",
              "    <tr>\n",
              "      <th>1202807</th>\n",
              "      <td>154232</td>\n",
              "      <td>1.56</td>\n",
              "      <td>1.26</td>\n",
              "      <td>1.0</td>\n",
              "      <td>0.0</td>\n",
              "      <td>1.0</td>\n",
              "      <td>0.00</td>\n",
              "      <td>0</td>\n",
              "      <td>6.0</td>\n",
              "      <td>71608.0</td>\n",
              "      <td>6.0</td>\n",
              "      <td>71893.0</td>\n",
              "      <td>285.0</td>\n",
              "      <td>1</td>\n",
              "      <td>0</td>\n",
              "      <td>0</td>\n",
              "      <td>1</td>\n",
              "      <td>0</td>\n",
              "      <td>1</td>\n",
              "      <td>0</td>\n",
              "      <td>0</td>\n",
              "      <td>0</td>\n",
              "      <td>0</td>\n",
              "      <td>0</td>\n",
              "      <td>0</td>\n",
              "      <td>0</td>\n",
              "      <td>0</td>\n",
              "      <td>0</td>\n",
              "      <td>0</td>\n",
              "      <td>0</td>\n",
              "      <td>1</td>\n",
              "      <td>0</td>\n",
              "      <td>0</td>\n",
              "    </tr>\n",
              "    <tr>\n",
              "      <th>1202808</th>\n",
              "      <td>154233</td>\n",
              "      <td>2.45</td>\n",
              "      <td>2.20</td>\n",
              "      <td>1.0</td>\n",
              "      <td>0.0</td>\n",
              "      <td>0.0</td>\n",
              "      <td>0.00</td>\n",
              "      <td>0</td>\n",
              "      <td>3.0</td>\n",
              "      <td>39178.0</td>\n",
              "      <td>3.0</td>\n",
              "      <td>39980.0</td>\n",
              "      <td>802.0</td>\n",
              "      <td>0</td>\n",
              "      <td>0</td>\n",
              "      <td>0</td>\n",
              "      <td>1</td>\n",
              "      <td>0</td>\n",
              "      <td>1</td>\n",
              "      <td>0</td>\n",
              "      <td>0</td>\n",
              "      <td>0</td>\n",
              "      <td>0</td>\n",
              "      <td>0</td>\n",
              "      <td>0</td>\n",
              "      <td>0</td>\n",
              "      <td>0</td>\n",
              "      <td>0</td>\n",
              "      <td>0</td>\n",
              "      <td>0</td>\n",
              "      <td>0</td>\n",
              "      <td>0</td>\n",
              "      <td>0</td>\n",
              "    </tr>\n",
              "    <tr>\n",
              "      <th>1202809</th>\n",
              "      <td>154234</td>\n",
              "      <td>2.66</td>\n",
              "      <td>1.71</td>\n",
              "      <td>2.0</td>\n",
              "      <td>0.0</td>\n",
              "      <td>1.0</td>\n",
              "      <td>0.00</td>\n",
              "      <td>0</td>\n",
              "      <td>5.0</td>\n",
              "      <td>70712.0</td>\n",
              "      <td>5.0</td>\n",
              "      <td>71726.0</td>\n",
              "      <td>1014.0</td>\n",
              "      <td>1</td>\n",
              "      <td>0</td>\n",
              "      <td>0</td>\n",
              "      <td>1</td>\n",
              "      <td>0</td>\n",
              "      <td>1</td>\n",
              "      <td>0</td>\n",
              "      <td>0</td>\n",
              "      <td>0</td>\n",
              "      <td>0</td>\n",
              "      <td>0</td>\n",
              "      <td>0</td>\n",
              "      <td>0</td>\n",
              "      <td>0</td>\n",
              "      <td>0</td>\n",
              "      <td>0</td>\n",
              "      <td>1</td>\n",
              "      <td>0</td>\n",
              "      <td>0</td>\n",
              "      <td>0</td>\n",
              "    </tr>\n",
              "  </tbody>\n",
              "</table>\n",
              "<p>1202287 rows × 33 columns</p>\n",
              "</div>"
            ],
            "text/plain": [
              "             ID  drivertip  ...  pickupdayofweek_4.0  pickupdayofweek_6.0\n",
              "0             0       1.83  ...                    0                    0\n",
              "1             1       3.56  ...                    0                    0\n",
              "2             2       1.50  ...                    0                    0\n",
              "3             3       1.50  ...                    0                    0\n",
              "4             4       0.00  ...                    0                    0\n",
              "...         ...        ...  ...                  ...                  ...\n",
              "1202805  154230       2.56  ...                    0                    0\n",
              "1202806  154231       1.00  ...                    0                    0\n",
              "1202807  154232       1.56  ...                    0                    0\n",
              "1202808  154233       2.45  ...                    0                    0\n",
              "1202809  154234       2.66  ...                    0                    0\n",
              "\n",
              "[1202287 rows x 33 columns]"
            ]
          },
          "metadata": {
            "tags": []
          },
          "execution_count": 33
        }
      ]
    },
    {
      "cell_type": "code",
      "metadata": {
        "id": "FjbSo-coeG16"
      },
      "source": [
        "\n",
        "#sns.pairplot(dataset_all, hue='totalamount')  #não funcionou"
      ],
      "execution_count": null,
      "outputs": []
    },
    {
      "cell_type": "code",
      "metadata": {
        "id": "yeqPbPDSeVNH"
      },
      "source": [
        "#Gerar heatmap\n",
        "#Fonte:\n",
        "# https://likegeeks.com/seaborn-heatmap-tutorial/\n",
        "\t\n",
        "heat_map = sns.heatmap(dataset_all.corr(), annot=False)\n",
        "plt.show();"
      ],
      "execution_count": null,
      "outputs": []
    },
    {
      "cell_type": "code",
      "metadata": {
        "id": "HiPwrg9LZ9QF",
        "colab": {
          "base_uri": "https://localhost:8080/"
        },
        "outputId": "abc0f183-d86f-4a03-f52a-fbd4209d6f23"
      },
      "source": [
        "# Remover colunas com alta correlacao\n",
        "# Compara as colunas automaticamente uma com as outras - remove as de alta correlação\n",
        "removeAlta = True # Fonte: https://towardsdatascience.com/feature-selection-correlation-and-p-value-da8921bfb3cf\n",
        "if removeAlta:\n",
        "  corr = dataset_all.corr()\n",
        "  columns = np.full((corr.shape[0],), True, dtype=bool)\n",
        "  for i in range(corr.shape[0]):\n",
        "     for j in range(i+1, corr.shape[0]):\n",
        "        if corr.iloc[i,j] >= 0.9:\n",
        "            print(\"Correlacao maior q 0.9 entre \" + dataset_all.columns[i] + \" e \" + dataset_all.columns[j] + \" vou remover \" + dataset_all.columns[j])\n",
        "            if columns[j]:\n",
        "               columns[j] = False \n",
        "               if dataset_all.columns[j] == \"totalamount\": columns[j] = True  #não vou apagar minha variavel dependente\n",
        "                \n",
        "  #Todas as colunas marcadas com falso não serão copiadas na versão final do dataset\n",
        "  selected_columns = dataset_all.columns[columns] #fitra as colunas com \"verdadeiro\"\n",
        "  dataset_all = dataset_all[selected_columns]\n"
      ],
      "execution_count": null,
      "outputs": [
        {
          "output_type": "stream",
          "text": [
            "Correlacao maior q 0.9 entre pickupday e dropday vou remover dropday\n",
            "Correlacao maior q 0.9 entre pickuphourinsecond e drophourinsecond vou remover drophourinsecond\n"
          ],
          "name": "stdout"
        }
      ]
    },
    {
      "cell_type": "code",
      "metadata": {
        "id": "pMhkuLCzVn8F",
        "colab": {
          "base_uri": "https://localhost:8080/"
        },
        "outputId": "0062778e-1f1c-473c-95a6-3d718ba51e61"
      },
      "source": [
        "#Investigar correlação/relevância das novas colunas geradas e valor a ser inferido\n",
        "#Retirar o comentário de uma linha por vez\n",
        "\n",
        "dataset_all['totalamount'].corr(dataset_all['timedeltas'])\n",
        "#dataset_all['totalamount'].corr(dataset_all['cat_2.0'])\n",
        "#dataset_all['totalamount'].corr(dataset_all['flag_Y'])\n",
        "#dataset_all.shape[1]\n",
        "#dataset_all.columns[3]\n",
        "#dataset_all['totalamount'].corr(dataset_all[dataset_all.columns[3]])"
      ],
      "execution_count": null,
      "outputs": [
        {
          "output_type": "execute_result",
          "data": {
            "text/plain": [
              "0.15543154633372144"
            ]
          },
          "metadata": {
            "tags": []
          },
          "execution_count": 37
        }
      ]
    },
    {
      "cell_type": "code",
      "metadata": {
        "id": "EkJkaSWclrrb",
        "colab": {
          "base_uri": "https://localhost:8080/"
        },
        "outputId": "23ff041b-3432-4574-a1a6-ff47cd4bfed3"
      },
      "source": [
        "#Eliminar colunas que possuem pouca correlação com totalamount\n",
        "eliminar = True\n",
        "\n",
        "if eliminar:\n",
        "  droplist = []\n",
        "  for i in range(dataset_all.shape[1]):\n",
        "    if dataset_all['totalamount'].corr(dataset_all[dataset_all.columns[i]]) < 0.01:\n",
        "      print (dataset_all.columns[i])\n",
        "      droplist.append(dataset_all.columns[i])\n",
        "      \n",
        "  dataset_all.drop(columns=droplist, inplace=True)"
      ],
      "execution_count": null,
      "outputs": [
        {
          "output_type": "stream",
          "text": [
            "pickupday\n",
            "pickuphourinsecond\n",
            "mtatax_0.5\n",
            "improvmtcharge_0.0\n",
            "improvmtcharge_0.3\n",
            "paymethod_2.0\n",
            "paymethod_3.0\n",
            "paymethod_4.0\n",
            "ratecode_6.0\n",
            "ratecode_99.0\n",
            "pickupdayofweek_1.0\n",
            "pickupdayofweek_2.0\n",
            "pickupdayofweek_3.0\n",
            "pickupdayofweek_4.0\n",
            "pickupdayofweek_6.0\n"
          ],
          "name": "stdout"
        },
        {
          "output_type": "stream",
          "text": [
            "/usr/local/lib/python3.7/dist-packages/pandas/core/frame.py:4174: SettingWithCopyWarning: \n",
            "A value is trying to be set on a copy of a slice from a DataFrame\n",
            "\n",
            "See the caveats in the documentation: https://pandas.pydata.org/pandas-docs/stable/user_guide/indexing.html#returning-a-view-versus-a-copy\n",
            "  errors=errors,\n"
          ],
          "name": "stderr"
        }
      ]
    },
    {
      "cell_type": "code",
      "metadata": {
        "id": "XXLGTC8vrrgD"
      },
      "source": [
        "# Separar em dois grupos: treino e teste conforme distribuição original.\n",
        "\n",
        "set_train = dataset_all[dataset_all['treino'] == 1].copy()\n",
        "set_test = dataset_all[dataset_all['treino'] == 0].copy()\n",
        "\n",
        "set_train.drop(columns=['treino'], inplace=True)\n",
        "set_test.drop(columns=['treino'], inplace=True)"
      ],
      "execution_count": null,
      "outputs": []
    },
    {
      "cell_type": "code",
      "metadata": {
        "id": "g0h6rvGT1MMa",
        "colab": {
          "base_uri": "https://localhost:8080/",
          "height": 439
        },
        "outputId": "c8af53c3-dbce-410c-d1c4-02fc70105319"
      },
      "source": [
        "set_test  #havia 154235 linhas"
      ],
      "execution_count": null,
      "outputs": [
        {
          "output_type": "execute_result",
          "data": {
            "text/html": [
              "<div>\n",
              "<style scoped>\n",
              "    .dataframe tbody tr th:only-of-type {\n",
              "        vertical-align: middle;\n",
              "    }\n",
              "\n",
              "    .dataframe tbody tr th {\n",
              "        vertical-align: top;\n",
              "    }\n",
              "\n",
              "    .dataframe thead th {\n",
              "        text-align: right;\n",
              "    }\n",
              "</style>\n",
              "<table border=\"1\" class=\"dataframe\">\n",
              "  <thead>\n",
              "    <tr style=\"text-align: right;\">\n",
              "      <th></th>\n",
              "      <th>ID</th>\n",
              "      <th>drivertip</th>\n",
              "      <th>distance</th>\n",
              "      <th>numpassengers</th>\n",
              "      <th>tollamount</th>\n",
              "      <th>extracharges</th>\n",
              "      <th>totalamount</th>\n",
              "      <th>timedeltas</th>\n",
              "      <th>cat_2.0</th>\n",
              "      <th>flag_Y</th>\n",
              "      <th>mtatax_0.0</th>\n",
              "      <th>ratecode_2.0</th>\n",
              "      <th>ratecode_3.0</th>\n",
              "      <th>ratecode_4.0</th>\n",
              "      <th>ratecode_5.0</th>\n",
              "    </tr>\n",
              "  </thead>\n",
              "  <tbody>\n",
              "    <tr>\n",
              "      <th>1048575</th>\n",
              "      <td>0</td>\n",
              "      <td>1.00</td>\n",
              "      <td>0.70</td>\n",
              "      <td>1.0</td>\n",
              "      <td>0.0</td>\n",
              "      <td>0.5</td>\n",
              "      <td>0.0</td>\n",
              "      <td>257.0</td>\n",
              "      <td>0</td>\n",
              "      <td>0</td>\n",
              "      <td>0</td>\n",
              "      <td>0</td>\n",
              "      <td>0</td>\n",
              "      <td>0</td>\n",
              "      <td>0</td>\n",
              "    </tr>\n",
              "    <tr>\n",
              "      <th>1048576</th>\n",
              "      <td>1</td>\n",
              "      <td>2.55</td>\n",
              "      <td>1.00</td>\n",
              "      <td>1.0</td>\n",
              "      <td>0.0</td>\n",
              "      <td>0.0</td>\n",
              "      <td>0.0</td>\n",
              "      <td>1113.0</td>\n",
              "      <td>0</td>\n",
              "      <td>0</td>\n",
              "      <td>0</td>\n",
              "      <td>0</td>\n",
              "      <td>0</td>\n",
              "      <td>0</td>\n",
              "      <td>0</td>\n",
              "    </tr>\n",
              "    <tr>\n",
              "      <th>1048577</th>\n",
              "      <td>2</td>\n",
              "      <td>2.96</td>\n",
              "      <td>3.35</td>\n",
              "      <td>2.0</td>\n",
              "      <td>0.0</td>\n",
              "      <td>0.0</td>\n",
              "      <td>0.0</td>\n",
              "      <td>892.0</td>\n",
              "      <td>1</td>\n",
              "      <td>0</td>\n",
              "      <td>0</td>\n",
              "      <td>0</td>\n",
              "      <td>0</td>\n",
              "      <td>0</td>\n",
              "      <td>0</td>\n",
              "    </tr>\n",
              "    <tr>\n",
              "      <th>1048578</th>\n",
              "      <td>3</td>\n",
              "      <td>2.00</td>\n",
              "      <td>0.80</td>\n",
              "      <td>2.0</td>\n",
              "      <td>0.0</td>\n",
              "      <td>0.0</td>\n",
              "      <td>0.0</td>\n",
              "      <td>347.0</td>\n",
              "      <td>0</td>\n",
              "      <td>0</td>\n",
              "      <td>0</td>\n",
              "      <td>0</td>\n",
              "      <td>0</td>\n",
              "      <td>0</td>\n",
              "      <td>0</td>\n",
              "    </tr>\n",
              "    <tr>\n",
              "      <th>1048579</th>\n",
              "      <td>4</td>\n",
              "      <td>1.00</td>\n",
              "      <td>0.70</td>\n",
              "      <td>1.0</td>\n",
              "      <td>0.0</td>\n",
              "      <td>0.0</td>\n",
              "      <td>0.0</td>\n",
              "      <td>413.0</td>\n",
              "      <td>0</td>\n",
              "      <td>1</td>\n",
              "      <td>0</td>\n",
              "      <td>0</td>\n",
              "      <td>0</td>\n",
              "      <td>0</td>\n",
              "      <td>0</td>\n",
              "    </tr>\n",
              "    <tr>\n",
              "      <th>...</th>\n",
              "      <td>...</td>\n",
              "      <td>...</td>\n",
              "      <td>...</td>\n",
              "      <td>...</td>\n",
              "      <td>...</td>\n",
              "      <td>...</td>\n",
              "      <td>...</td>\n",
              "      <td>...</td>\n",
              "      <td>...</td>\n",
              "      <td>...</td>\n",
              "      <td>...</td>\n",
              "      <td>...</td>\n",
              "      <td>...</td>\n",
              "      <td>...</td>\n",
              "      <td>...</td>\n",
              "    </tr>\n",
              "    <tr>\n",
              "      <th>1202805</th>\n",
              "      <td>154230</td>\n",
              "      <td>2.56</td>\n",
              "      <td>1.47</td>\n",
              "      <td>6.0</td>\n",
              "      <td>0.0</td>\n",
              "      <td>1.0</td>\n",
              "      <td>0.0</td>\n",
              "      <td>960.0</td>\n",
              "      <td>1</td>\n",
              "      <td>0</td>\n",
              "      <td>0</td>\n",
              "      <td>0</td>\n",
              "      <td>0</td>\n",
              "      <td>0</td>\n",
              "      <td>0</td>\n",
              "    </tr>\n",
              "    <tr>\n",
              "      <th>1202806</th>\n",
              "      <td>154231</td>\n",
              "      <td>1.00</td>\n",
              "      <td>1.10</td>\n",
              "      <td>2.0</td>\n",
              "      <td>0.0</td>\n",
              "      <td>0.0</td>\n",
              "      <td>0.0</td>\n",
              "      <td>420.0</td>\n",
              "      <td>0</td>\n",
              "      <td>0</td>\n",
              "      <td>0</td>\n",
              "      <td>0</td>\n",
              "      <td>0</td>\n",
              "      <td>0</td>\n",
              "      <td>0</td>\n",
              "    </tr>\n",
              "    <tr>\n",
              "      <th>1202807</th>\n",
              "      <td>154232</td>\n",
              "      <td>1.56</td>\n",
              "      <td>1.26</td>\n",
              "      <td>1.0</td>\n",
              "      <td>0.0</td>\n",
              "      <td>1.0</td>\n",
              "      <td>0.0</td>\n",
              "      <td>285.0</td>\n",
              "      <td>1</td>\n",
              "      <td>0</td>\n",
              "      <td>0</td>\n",
              "      <td>0</td>\n",
              "      <td>0</td>\n",
              "      <td>0</td>\n",
              "      <td>0</td>\n",
              "    </tr>\n",
              "    <tr>\n",
              "      <th>1202808</th>\n",
              "      <td>154233</td>\n",
              "      <td>2.45</td>\n",
              "      <td>2.20</td>\n",
              "      <td>1.0</td>\n",
              "      <td>0.0</td>\n",
              "      <td>0.0</td>\n",
              "      <td>0.0</td>\n",
              "      <td>802.0</td>\n",
              "      <td>0</td>\n",
              "      <td>0</td>\n",
              "      <td>0</td>\n",
              "      <td>0</td>\n",
              "      <td>0</td>\n",
              "      <td>0</td>\n",
              "      <td>0</td>\n",
              "    </tr>\n",
              "    <tr>\n",
              "      <th>1202809</th>\n",
              "      <td>154234</td>\n",
              "      <td>2.66</td>\n",
              "      <td>1.71</td>\n",
              "      <td>2.0</td>\n",
              "      <td>0.0</td>\n",
              "      <td>1.0</td>\n",
              "      <td>0.0</td>\n",
              "      <td>1014.0</td>\n",
              "      <td>1</td>\n",
              "      <td>0</td>\n",
              "      <td>0</td>\n",
              "      <td>0</td>\n",
              "      <td>0</td>\n",
              "      <td>0</td>\n",
              "      <td>0</td>\n",
              "    </tr>\n",
              "  </tbody>\n",
              "</table>\n",
              "<p>154235 rows × 15 columns</p>\n",
              "</div>"
            ],
            "text/plain": [
              "             ID  drivertip  distance  ...  ratecode_3.0  ratecode_4.0  ratecode_5.0\n",
              "1048575       0       1.00      0.70  ...             0             0             0\n",
              "1048576       1       2.55      1.00  ...             0             0             0\n",
              "1048577       2       2.96      3.35  ...             0             0             0\n",
              "1048578       3       2.00      0.80  ...             0             0             0\n",
              "1048579       4       1.00      0.70  ...             0             0             0\n",
              "...         ...        ...       ...  ...           ...           ...           ...\n",
              "1202805  154230       2.56      1.47  ...             0             0             0\n",
              "1202806  154231       1.00      1.10  ...             0             0             0\n",
              "1202807  154232       1.56      1.26  ...             0             0             0\n",
              "1202808  154233       2.45      2.20  ...             0             0             0\n",
              "1202809  154234       2.66      1.71  ...             0             0             0\n",
              "\n",
              "[154235 rows x 15 columns]"
            ]
          },
          "metadata": {
            "tags": []
          },
          "execution_count": 40
        }
      ]
    },
    {
      "cell_type": "code",
      "metadata": {
        "id": "Y_SlAcaqwR2n",
        "colab": {
          "base_uri": "https://localhost:8080/"
        },
        "outputId": "dd628907-d9fb-481a-846d-ceeaa30222fe"
      },
      "source": [
        "# Analise de correlacao\n",
        "import seaborn as sb\n",
        "pearsoncorr = set_train.corr(method='pearson')\n",
        "sb.heatmap(pearsoncorr, \n",
        "            xticklabels=pearsoncorr.columns,\n",
        "            yticklabels=pearsoncorr.columns,\n",
        "            cmap='RdBu_r',\n",
        "            annot=True,\n",
        "            linewidth=0.5)"
      ],
      "execution_count": null,
      "outputs": [
        {
          "output_type": "execute_result",
          "data": {
            "text/plain": [
              "<matplotlib.axes._subplots.AxesSubplot at 0x7faf66df0d50>"
            ]
          },
          "metadata": {
            "tags": []
          },
          "execution_count": 41
        }
      ]
    },
    {
      "cell_type": "code",
      "metadata": {
        "id": "uEBdML92fuXS",
        "colab": {
          "base_uri": "https://localhost:8080/",
          "height": 419
        },
        "outputId": "99717b47-27cc-4cb6-ab04-ad61ea240ce4"
      },
      "source": [
        "# Separar coluna a ser inferida do dataframe de treino. Criar a variável dependente.\n",
        "# Y nao pode estar escalonado .... deixar valores originais.\n",
        "# eliminei colunas e totalamount mudou de lugar\n",
        "Y = set_train.iloc[:, (set_train.columns.get_loc(\"totalamount\"))] #tirar .values no final para não perder dataframe\n",
        "\n",
        "Y = pd.DataFrame(Y, columns = ['totalamount'])  #transformando num dataframe a variavel dependente -  \n",
        "\n",
        "Y"
      ],
      "execution_count": null,
      "outputs": [
        {
          "output_type": "execute_result",
          "data": {
            "text/html": [
              "<div>\n",
              "<style scoped>\n",
              "    .dataframe tbody tr th:only-of-type {\n",
              "        vertical-align: middle;\n",
              "    }\n",
              "\n",
              "    .dataframe tbody tr th {\n",
              "        vertical-align: top;\n",
              "    }\n",
              "\n",
              "    .dataframe thead th {\n",
              "        text-align: right;\n",
              "    }\n",
              "</style>\n",
              "<table border=\"1\" class=\"dataframe\">\n",
              "  <thead>\n",
              "    <tr style=\"text-align: right;\">\n",
              "      <th></th>\n",
              "      <th>totalamount</th>\n",
              "    </tr>\n",
              "  </thead>\n",
              "  <tbody>\n",
              "    <tr>\n",
              "      <th>0</th>\n",
              "      <td>9.13</td>\n",
              "    </tr>\n",
              "    <tr>\n",
              "      <th>1</th>\n",
              "      <td>21.36</td>\n",
              "    </tr>\n",
              "    <tr>\n",
              "      <th>2</th>\n",
              "      <td>8.80</td>\n",
              "    </tr>\n",
              "    <tr>\n",
              "      <th>3</th>\n",
              "      <td>14.80</td>\n",
              "    </tr>\n",
              "    <tr>\n",
              "      <th>4</th>\n",
              "      <td>4.80</td>\n",
              "    </tr>\n",
              "    <tr>\n",
              "      <th>...</th>\n",
              "      <td>...</td>\n",
              "    </tr>\n",
              "    <tr>\n",
              "      <th>1048570</th>\n",
              "      <td>9.80</td>\n",
              "    </tr>\n",
              "    <tr>\n",
              "      <th>1048571</th>\n",
              "      <td>18.30</td>\n",
              "    </tr>\n",
              "    <tr>\n",
              "      <th>1048572</th>\n",
              "      <td>14.15</td>\n",
              "    </tr>\n",
              "    <tr>\n",
              "      <th>1048573</th>\n",
              "      <td>11.80</td>\n",
              "    </tr>\n",
              "    <tr>\n",
              "      <th>1048574</th>\n",
              "      <td>4.80</td>\n",
              "    </tr>\n",
              "  </tbody>\n",
              "</table>\n",
              "<p>1048052 rows × 1 columns</p>\n",
              "</div>"
            ],
            "text/plain": [
              "         totalamount\n",
              "0               9.13\n",
              "1              21.36\n",
              "2               8.80\n",
              "3              14.80\n",
              "4               4.80\n",
              "...              ...\n",
              "1048570         9.80\n",
              "1048571        18.30\n",
              "1048572        14.15\n",
              "1048573        11.80\n",
              "1048574         4.80\n",
              "\n",
              "[1048052 rows x 1 columns]"
            ]
          },
          "metadata": {
            "tags": []
          },
          "execution_count": 42
        }
      ]
    },
    {
      "cell_type": "code",
      "metadata": {
        "id": "H6-3emn8rNFR",
        "colab": {
          "base_uri": "https://localhost:8080/",
          "height": 439
        },
        "outputId": "a1f29384-6f1e-4c14-afc9-4bb3fbd31219"
      },
      "source": [
        "#Retirar a variável dependente do dataframe de treino.\n",
        "\n",
        "X = set_train.drop(\"totalamount\", axis=1) #axis=1 --> column - Novo dataframe = antigo sem coluna de respostas\n",
        "X"
      ],
      "execution_count": null,
      "outputs": [
        {
          "output_type": "execute_result",
          "data": {
            "text/html": [
              "<div>\n",
              "<style scoped>\n",
              "    .dataframe tbody tr th:only-of-type {\n",
              "        vertical-align: middle;\n",
              "    }\n",
              "\n",
              "    .dataframe tbody tr th {\n",
              "        vertical-align: top;\n",
              "    }\n",
              "\n",
              "    .dataframe thead th {\n",
              "        text-align: right;\n",
              "    }\n",
              "</style>\n",
              "<table border=\"1\" class=\"dataframe\">\n",
              "  <thead>\n",
              "    <tr style=\"text-align: right;\">\n",
              "      <th></th>\n",
              "      <th>ID</th>\n",
              "      <th>drivertip</th>\n",
              "      <th>distance</th>\n",
              "      <th>numpassengers</th>\n",
              "      <th>tollamount</th>\n",
              "      <th>extracharges</th>\n",
              "      <th>timedeltas</th>\n",
              "      <th>cat_2.0</th>\n",
              "      <th>flag_Y</th>\n",
              "      <th>mtatax_0.0</th>\n",
              "      <th>ratecode_2.0</th>\n",
              "      <th>ratecode_3.0</th>\n",
              "      <th>ratecode_4.0</th>\n",
              "      <th>ratecode_5.0</th>\n",
              "    </tr>\n",
              "  </thead>\n",
              "  <tbody>\n",
              "    <tr>\n",
              "      <th>0</th>\n",
              "      <td>0</td>\n",
              "      <td>1.83</td>\n",
              "      <td>0.70</td>\n",
              "      <td>1.0</td>\n",
              "      <td>0.0</td>\n",
              "      <td>1.0</td>\n",
              "      <td>321.0</td>\n",
              "      <td>0</td>\n",
              "      <td>0</td>\n",
              "      <td>0</td>\n",
              "      <td>0</td>\n",
              "      <td>0</td>\n",
              "      <td>0</td>\n",
              "      <td>0</td>\n",
              "    </tr>\n",
              "    <tr>\n",
              "      <th>1</th>\n",
              "      <td>1</td>\n",
              "      <td>3.56</td>\n",
              "      <td>4.64</td>\n",
              "      <td>1.0</td>\n",
              "      <td>0.0</td>\n",
              "      <td>1.0</td>\n",
              "      <td>990.0</td>\n",
              "      <td>1</td>\n",
              "      <td>0</td>\n",
              "      <td>0</td>\n",
              "      <td>0</td>\n",
              "      <td>0</td>\n",
              "      <td>0</td>\n",
              "      <td>0</td>\n",
              "    </tr>\n",
              "    <tr>\n",
              "      <th>2</th>\n",
              "      <td>2</td>\n",
              "      <td>1.50</td>\n",
              "      <td>1.29</td>\n",
              "      <td>2.0</td>\n",
              "      <td>0.0</td>\n",
              "      <td>0.0</td>\n",
              "      <td>377.0</td>\n",
              "      <td>1</td>\n",
              "      <td>0</td>\n",
              "      <td>0</td>\n",
              "      <td>0</td>\n",
              "      <td>0</td>\n",
              "      <td>0</td>\n",
              "      <td>0</td>\n",
              "    </tr>\n",
              "    <tr>\n",
              "      <th>3</th>\n",
              "      <td>3</td>\n",
              "      <td>1.50</td>\n",
              "      <td>2.74</td>\n",
              "      <td>1.0</td>\n",
              "      <td>0.0</td>\n",
              "      <td>0.0</td>\n",
              "      <td>968.0</td>\n",
              "      <td>1</td>\n",
              "      <td>0</td>\n",
              "      <td>0</td>\n",
              "      <td>0</td>\n",
              "      <td>0</td>\n",
              "      <td>0</td>\n",
              "      <td>0</td>\n",
              "    </tr>\n",
              "    <tr>\n",
              "      <th>4</th>\n",
              "      <td>4</td>\n",
              "      <td>0.00</td>\n",
              "      <td>0.45</td>\n",
              "      <td>6.0</td>\n",
              "      <td>0.0</td>\n",
              "      <td>0.0</td>\n",
              "      <td>162.0</td>\n",
              "      <td>1</td>\n",
              "      <td>0</td>\n",
              "      <td>0</td>\n",
              "      <td>0</td>\n",
              "      <td>0</td>\n",
              "      <td>0</td>\n",
              "      <td>0</td>\n",
              "    </tr>\n",
              "    <tr>\n",
              "      <th>...</th>\n",
              "      <td>...</td>\n",
              "      <td>...</td>\n",
              "      <td>...</td>\n",
              "      <td>...</td>\n",
              "      <td>...</td>\n",
              "      <td>...</td>\n",
              "      <td>...</td>\n",
              "      <td>...</td>\n",
              "      <td>...</td>\n",
              "      <td>...</td>\n",
              "      <td>...</td>\n",
              "      <td>...</td>\n",
              "      <td>...</td>\n",
              "      <td>...</td>\n",
              "    </tr>\n",
              "    <tr>\n",
              "      <th>1048570</th>\n",
              "      <td>1048570</td>\n",
              "      <td>1.00</td>\n",
              "      <td>1.40</td>\n",
              "      <td>1.0</td>\n",
              "      <td>0.0</td>\n",
              "      <td>0.5</td>\n",
              "      <td>475.0</td>\n",
              "      <td>0</td>\n",
              "      <td>0</td>\n",
              "      <td>0</td>\n",
              "      <td>0</td>\n",
              "      <td>0</td>\n",
              "      <td>0</td>\n",
              "      <td>0</td>\n",
              "    </tr>\n",
              "    <tr>\n",
              "      <th>1048571</th>\n",
              "      <td>1048571</td>\n",
              "      <td>0.00</td>\n",
              "      <td>3.60</td>\n",
              "      <td>1.0</td>\n",
              "      <td>0.0</td>\n",
              "      <td>0.0</td>\n",
              "      <td>1397.0</td>\n",
              "      <td>0</td>\n",
              "      <td>0</td>\n",
              "      <td>0</td>\n",
              "      <td>0</td>\n",
              "      <td>0</td>\n",
              "      <td>0</td>\n",
              "      <td>0</td>\n",
              "    </tr>\n",
              "    <tr>\n",
              "      <th>1048572</th>\n",
              "      <td>1048572</td>\n",
              "      <td>2.35</td>\n",
              "      <td>1.70</td>\n",
              "      <td>1.0</td>\n",
              "      <td>0.0</td>\n",
              "      <td>0.5</td>\n",
              "      <td>802.0</td>\n",
              "      <td>0</td>\n",
              "      <td>0</td>\n",
              "      <td>0</td>\n",
              "      <td>0</td>\n",
              "      <td>0</td>\n",
              "      <td>0</td>\n",
              "      <td>0</td>\n",
              "    </tr>\n",
              "    <tr>\n",
              "      <th>1048573</th>\n",
              "      <td>1048573</td>\n",
              "      <td>0.00</td>\n",
              "      <td>1.80</td>\n",
              "      <td>4.0</td>\n",
              "      <td>0.0</td>\n",
              "      <td>1.0</td>\n",
              "      <td>767.0</td>\n",
              "      <td>1</td>\n",
              "      <td>0</td>\n",
              "      <td>0</td>\n",
              "      <td>0</td>\n",
              "      <td>0</td>\n",
              "      <td>0</td>\n",
              "      <td>0</td>\n",
              "    </tr>\n",
              "    <tr>\n",
              "      <th>1048574</th>\n",
              "      <td>1048574</td>\n",
              "      <td>0.00</td>\n",
              "      <td>0.30</td>\n",
              "      <td>1.0</td>\n",
              "      <td>0.0</td>\n",
              "      <td>0.0</td>\n",
              "      <td>166.0</td>\n",
              "      <td>0</td>\n",
              "      <td>0</td>\n",
              "      <td>0</td>\n",
              "      <td>0</td>\n",
              "      <td>0</td>\n",
              "      <td>0</td>\n",
              "      <td>0</td>\n",
              "    </tr>\n",
              "  </tbody>\n",
              "</table>\n",
              "<p>1048052 rows × 14 columns</p>\n",
              "</div>"
            ],
            "text/plain": [
              "              ID  drivertip  distance  ...  ratecode_3.0  ratecode_4.0  ratecode_5.0\n",
              "0              0       1.83      0.70  ...             0             0             0\n",
              "1              1       3.56      4.64  ...             0             0             0\n",
              "2              2       1.50      1.29  ...             0             0             0\n",
              "3              3       1.50      2.74  ...             0             0             0\n",
              "4              4       0.00      0.45  ...             0             0             0\n",
              "...          ...        ...       ...  ...           ...           ...           ...\n",
              "1048570  1048570       1.00      1.40  ...             0             0             0\n",
              "1048571  1048571       0.00      3.60  ...             0             0             0\n",
              "1048572  1048572       2.35      1.70  ...             0             0             0\n",
              "1048573  1048573       0.00      1.80  ...             0             0             0\n",
              "1048574  1048574       0.00      0.30  ...             0             0             0\n",
              "\n",
              "[1048052 rows x 14 columns]"
            ]
          },
          "metadata": {
            "tags": []
          },
          "execution_count": 43
        }
      ]
    },
    {
      "cell_type": "code",
      "metadata": {
        "id": "pGd10MrnxnJ1"
      },
      "source": [
        "# Normalização dos valores entre zero e um\n",
        "\n",
        "from sklearn.preprocessing import MinMaxScaler\n",
        "## abaixo vai colocar valores entre zero e um\n",
        "sc = MinMaxScaler(feature_range = (0, 1))\n"
      ],
      "execution_count": null,
      "outputs": []
    },
    {
      "cell_type": "code",
      "metadata": {
        "id": "tJBxaRno4laD",
        "colab": {
          "base_uri": "https://localhost:8080/"
        },
        "outputId": "f1326834-800a-4c63-80d7-0d204b21e1ad"
      },
      "source": [
        "#Gerar número aleatorio para sorteio de treino e teste\n",
        "import time\n",
        "seconds = int(time.time() - seconds)\n",
        "seconds\n"
      ],
      "execution_count": null,
      "outputs": [
        {
          "output_type": "execute_result",
          "data": {
            "text/plain": [
              "302"
            ]
          },
          "metadata": {
            "tags": []
          },
          "execution_count": 45
        }
      ]
    },
    {
      "cell_type": "code",
      "metadata": {
        "id": "LKZ0CSM111j9"
      },
      "source": [
        "# Dividindo o dataset em treino e teste\n",
        "from sklearn.model_selection import train_test_split\n",
        "X_train, X_test, y_train, y_test = train_test_split(X, Y, test_size = 0.25, random_state = seconds)  "
      ],
      "execution_count": null,
      "outputs": []
    },
    {
      "cell_type": "code",
      "metadata": {
        "id": "ClDFiTAU6KLi"
      },
      "source": [
        "\n",
        "    #Step 1: fit the scaler on the TRAINING data\n",
        "    #Step 2: use the scaler to transform the training data\n",
        "    #Step 3: use the transformed training data to fit the predictive model\n",
        "    #Step 4: use the scaler to transform the TEST data\n",
        "    #Step 5: predict using the trained model and the transformed TEST data\n",
        "\n",
        "    #Fonte:\n",
        "    #https://stackoverflow.com/questions/50565937/how-to-normalize-the-train-and-test-data-using-minmaxscaler-sklearn"
      ],
      "execution_count": null,
      "outputs": []
    },
    {
      "cell_type": "code",
      "metadata": {
        "id": "7YEWD23ZBtVe"
      },
      "source": [
        "#Normalizar dados de treino\n",
        "\n",
        "X_train = sc.fit_transform(X_train)\n"
      ],
      "execution_count": null,
      "outputs": []
    },
    {
      "cell_type": "code",
      "metadata": {
        "id": "9r-etcW8zucb"
      },
      "source": [
        "#Normalizar dados de teste\n",
        "\n",
        "X_test = sc.transform(X_test)"
      ],
      "execution_count": null,
      "outputs": []
    },
    {
      "cell_type": "code",
      "metadata": {
        "id": "d_y4Fazv_4_s",
        "colab": {
          "base_uri": "https://localhost:8080/",
          "height": 419
        },
        "outputId": "33030e52-b7a5-4ed8-ada1-d9bbd965d5f3"
      },
      "source": [
        "y_test"
      ],
      "execution_count": null,
      "outputs": [
        {
          "output_type": "execute_result",
          "data": {
            "text/html": [
              "<div>\n",
              "<style scoped>\n",
              "    .dataframe tbody tr th:only-of-type {\n",
              "        vertical-align: middle;\n",
              "    }\n",
              "\n",
              "    .dataframe tbody tr th {\n",
              "        vertical-align: top;\n",
              "    }\n",
              "\n",
              "    .dataframe thead th {\n",
              "        text-align: right;\n",
              "    }\n",
              "</style>\n",
              "<table border=\"1\" class=\"dataframe\">\n",
              "  <thead>\n",
              "    <tr style=\"text-align: right;\">\n",
              "      <th></th>\n",
              "      <th>totalamount</th>\n",
              "    </tr>\n",
              "  </thead>\n",
              "  <tbody>\n",
              "    <tr>\n",
              "      <th>10373</th>\n",
              "      <td>19.55</td>\n",
              "    </tr>\n",
              "    <tr>\n",
              "      <th>809330</th>\n",
              "      <td>7.80</td>\n",
              "    </tr>\n",
              "    <tr>\n",
              "      <th>15349</th>\n",
              "      <td>70.27</td>\n",
              "    </tr>\n",
              "    <tr>\n",
              "      <th>765960</th>\n",
              "      <td>22.25</td>\n",
              "    </tr>\n",
              "    <tr>\n",
              "      <th>606849</th>\n",
              "      <td>15.95</td>\n",
              "    </tr>\n",
              "    <tr>\n",
              "      <th>...</th>\n",
              "      <td>...</td>\n",
              "    </tr>\n",
              "    <tr>\n",
              "      <th>326278</th>\n",
              "      <td>6.96</td>\n",
              "    </tr>\n",
              "    <tr>\n",
              "      <th>198804</th>\n",
              "      <td>9.96</td>\n",
              "    </tr>\n",
              "    <tr>\n",
              "      <th>656601</th>\n",
              "      <td>20.80</td>\n",
              "    </tr>\n",
              "    <tr>\n",
              "      <th>1032912</th>\n",
              "      <td>11.80</td>\n",
              "    </tr>\n",
              "    <tr>\n",
              "      <th>380051</th>\n",
              "      <td>12.36</td>\n",
              "    </tr>\n",
              "  </tbody>\n",
              "</table>\n",
              "<p>262013 rows × 1 columns</p>\n",
              "</div>"
            ],
            "text/plain": [
              "         totalamount\n",
              "10373          19.55\n",
              "809330          7.80\n",
              "15349          70.27\n",
              "765960         22.25\n",
              "606849         15.95\n",
              "...              ...\n",
              "326278          6.96\n",
              "198804          9.96\n",
              "656601         20.80\n",
              "1032912        11.80\n",
              "380051         12.36\n",
              "\n",
              "[262013 rows x 1 columns]"
            ]
          },
          "metadata": {
            "tags": []
          },
          "execution_count": 50
        }
      ]
    },
    {
      "cell_type": "code",
      "metadata": {
        "id": "iurWJwXVGoKo"
      },
      "source": [
        "# Seleção de regressor (escolher apenas um como True)\n",
        "Random_Forest = False\n",
        "Xgboost = False\n",
        "GradientBoost = True\n",
        "AdaBoost = False\n",
        "from sklearn.metrics import mean_squared_error, mean_absolute_error"
      ],
      "execution_count": null,
      "outputs": []
    },
    {
      "cell_type": "code",
      "metadata": {
        "id": "N6ZWbxDvCStu"
      },
      "source": [
        "# Importando ferramentas e modelos necessários para Random Forest\n",
        "if Random_Forest :\n",
        "  from sklearn.ensemble import RandomForestRegressor\n",
        "  \n",
        "\n",
        "  params = {\n",
        "      'n_estimators' : 5,\n",
        "      'n_jobs' : -1,\n",
        "      'verbose' : 1,\n",
        "  }\n",
        "\n"
      ],
      "execution_count": null,
      "outputs": []
    },
    {
      "cell_type": "code",
      "metadata": {
        "id": "5_QEg2QlYNFi"
      },
      "source": [
        "# Ajustar automaticamente o modelo para os melhores parametros\n",
        "if Random_Forest :\n",
        "  mae = 1 #valor inicial de mean absolute error\n",
        "  for x in range(1,10):\n",
        "    paramstmp = {\n",
        "      'n_estimators' : x,\n",
        "      'n_jobs' : -1,\n",
        "      'verbose' : 1,\n",
        "    }    \n",
        "    ## Chamada para regressor linear\n",
        "    lin_regtmp = RandomForestRegressor(**paramstmp)\n",
        "    ## ajustar treino e dados de teste. \n",
        "    lin_regtmp.fit(X_train, y_train) #treinar o x de treino escalonado em relação ao y de treino\n",
        "    ## Predizer dados de treino  \n",
        "    y_predtmp = lin_regtmp.predict(X_test)  #predizer usando o x de teste escalonado\n",
        "    maetemp = mean_absolute_error(y_predtmp, y_test)\n",
        "    if maetemp < mae: #comparar o predito com o dado real\n",
        "      mae = maetemp # valor mais otimizado foi achado\n",
        "      lin_reg = lin_regtmp\n",
        "      params = paramstmp\n",
        "      y_pred = y_predtmp\n",
        "      print('\\n')\n",
        "      print('novo minimo!')\n",
        "    print(\"Mean Absolute Error of x=\" + str(x) + \" : \" + str(maetemp))\n",
        "    print('\\n')\n",
        "  "
      ],
      "execution_count": null,
      "outputs": []
    },
    {
      "cell_type": "code",
      "metadata": {
        "id": "ZCmmZmEAIkqq"
      },
      "source": [
        "# Excecutando XgBoost\n",
        "# https://www.kaggle.com/dansbecker/xgboost\n",
        "\n",
        "if Xgboost :\n",
        "  from xgboost import XGBRegressor\n",
        "  lin_reg = XGBRegressor()\n",
        "  # Add silent=True to avoid printing out updates with each cycle\n",
        "  lin_reg.fit(X_train, y_train, verbose=True)\n",
        "  # make predictions\n",
        "  y_pred = lin_reg.predict(X_test)\n",
        "\n",
        "  from sklearn.metrics import mean_absolute_error\n",
        "  print(\"Mean Absolute Error : \" + str(mean_absolute_error(y_pred, y_test)))\n"
      ],
      "execution_count": null,
      "outputs": []
    },
    {
      "cell_type": "code",
      "metadata": {
        "id": "4MvykYafLXEt",
        "colab": {
          "base_uri": "https://localhost:8080/"
        },
        "outputId": "4f35594e-dc7a-46d3-83d0-f581fcd0e71c"
      },
      "source": [
        " # Executando Gradient Boost\n",
        "if GradientBoost :  \n",
        "  from sklearn.datasets import make_regression\n",
        "  from sklearn.ensemble import GradientBoostingRegressor\n",
        "  params = {'n_estimators': 500,\n",
        "          'max_depth': 6,\n",
        "          'min_samples_split': 5,\n",
        "          'learning_rate': 0.01,\n",
        "          'loss': 'ls'}\n",
        "  mae = 2 #valor inicial de mean absolute error\n",
        "  for x in range(700,800, 100):\n",
        "    paramstmp = {'n_estimators': x,\n",
        "          'max_depth': 12,\n",
        "          'min_samples_split': 5,\n",
        "          'learning_rate': 0.01,\n",
        "          'loss': 'ls'}\n",
        "    ## Chamada para regressor linear\n",
        "    lin_regtmp = GradientBoostingRegressor(**paramstmp)\n",
        "    ## ajustar treino e dados de teste. \n",
        "    lin_regtmp.fit(X_train, y_train) #treinar o x de treino escalonado em relação ao y de treino\n",
        "    ## Predizer dadis de treino  \n",
        "    y_predtmp = lin_regtmp.predict(X_test)  #predizer usando o x de teste escalonado\n",
        "    maetemp = mean_absolute_error(y_predtmp, y_test)\n",
        "    if maetemp < mae: #comparar o predito com o dado real\n",
        "      mae = maetemp # valor mais otimizado foi achado\n",
        "      lin_reg = lin_regtmp\n",
        "      params = paramstmp\n",
        "      y_pred = y_predtmp\n",
        "      print('\\n')\n",
        "      print('novo minimo!')\n",
        "    print(\"Mean Absolute Error of x=\" + str(x) + \" : \" + str(maetemp))\n",
        "    print('\\n')\n",
        "\n",
        "# Testes anteriores (maxdepth = 4):\n",
        "#Mean Absolute Error of x=400 : 0.8411798023716722\n",
        "#Mean Absolute Error of x=500 : 0.7363074561344162\n",
        "#Mean Absolute Error of x=600 : 0.6788078831212778\n",
        "#Mean Absolute Error of x=700 : 0.649170356014943\n",
        "#Mean Absolute Error of x=1200 : 0.5665202175385219\n",
        "#(maxdepth = 4)\n",
        "#Mean Absolute Error of x=500 : 0.529386211795098\n",
        "#(maxdepth = 6)\n",
        "#Mean Absolute Error of x=500 : 0.3604175543475147\n",
        "#(maxdepth = 12)\n",
        "#Mean Absolute Error of x=700 : 0.3394432780996914  "
      ],
      "execution_count": null,
      "outputs": [
        {
          "output_type": "stream",
          "text": [
            "/usr/local/lib/python3.7/dist-packages/sklearn/ensemble/_gb.py:1454: DataConversionWarning: A column-vector y was passed when a 1d array was expected. Please change the shape of y to (n_samples, ), for example using ravel().\n",
            "  y = column_or_1d(y, warn=True)\n"
          ],
          "name": "stderr"
        },
        {
          "output_type": "stream",
          "text": [
            "\n",
            "\n",
            "novo minimo!\n",
            "Mean Absolute Error of x=700 : 0.3394432780996914\n",
            "\n",
            "\n"
          ],
          "name": "stdout"
        }
      ]
    },
    {
      "cell_type": "code",
      "metadata": {
        "id": "6j3zOXQ2PTDJ"
      },
      "source": [
        " # Executando AdaBoost\n",
        "if AdaBoost :\n",
        "  from sklearn.ensemble import AdaBoostRegressor\n",
        "  mae = 10 #valor inicial de mean absolute error\n",
        "  for x in range(97,106,3):    \n",
        "    ## Chamada para regressor linear\n",
        "    lin_regtmp = AdaBoostRegressor(random_state=0, n_estimators=x, learning_rate = 0.1)\n",
        "    ## ajustar treino e dados de teste. \n",
        "    lin_regtmp.fit(X_train, y_train) #treinar o x de treino escalonado em relação ao y de treino\n",
        "    ## Predizer dadis de treino  \n",
        "    y_predtmp = lin_regtmp.predict(X_test)  #predizer usando o x de teste escalonado\n",
        "    maetemp = mean_absolute_error(y_predtmp, y_test)\n",
        "    if maetemp < mae: #comparar o predito com o dado real\n",
        "      mae = maetemp # valor mais otimizado foi achado\n",
        "      lin_reg = lin_regtmp\n",
        "      params = paramstmp\n",
        "      y_pred = y_predtmp\n",
        "      print('\\n')\n",
        "      print('novo minimo!')\n",
        "    print(\"Mean Absolute Error of x=\" + str(x) + \" : \" + str(maetemp))\n",
        "    print('\\n')"
      ],
      "execution_count": null,
      "outputs": []
    },
    {
      "cell_type": "code",
      "metadata": {
        "id": "Hyxlup6DIZFc",
        "colab": {
          "base_uri": "https://localhost:8080/"
        },
        "outputId": "79721cce-1f24-4b2e-8fd0-a4672f9a25dc"
      },
      "source": [
        "y_pred"
      ],
      "execution_count": null,
      "outputs": [
        {
          "output_type": "execute_result",
          "data": {
            "text/plain": [
              "array([19.60716284,  7.95461658, 70.2429938 , ..., 20.16879236,\n",
              "       11.59657787, 12.44110901])"
            ]
          },
          "metadata": {
            "tags": []
          },
          "execution_count": 57
        }
      ]
    },
    {
      "cell_type": "code",
      "metadata": {
        "id": "howEqW5t_34y",
        "colab": {
          "base_uri": "https://localhost:8080/",
          "height": 439
        },
        "outputId": "7558cc55-4400-4239-e8f2-6e7a9d4a1bdd"
      },
      "source": [
        "X\n"
      ],
      "execution_count": null,
      "outputs": [
        {
          "output_type": "execute_result",
          "data": {
            "text/html": [
              "<div>\n",
              "<style scoped>\n",
              "    .dataframe tbody tr th:only-of-type {\n",
              "        vertical-align: middle;\n",
              "    }\n",
              "\n",
              "    .dataframe tbody tr th {\n",
              "        vertical-align: top;\n",
              "    }\n",
              "\n",
              "    .dataframe thead th {\n",
              "        text-align: right;\n",
              "    }\n",
              "</style>\n",
              "<table border=\"1\" class=\"dataframe\">\n",
              "  <thead>\n",
              "    <tr style=\"text-align: right;\">\n",
              "      <th></th>\n",
              "      <th>ID</th>\n",
              "      <th>drivertip</th>\n",
              "      <th>distance</th>\n",
              "      <th>numpassengers</th>\n",
              "      <th>tollamount</th>\n",
              "      <th>extracharges</th>\n",
              "      <th>timedeltas</th>\n",
              "      <th>cat_2.0</th>\n",
              "      <th>flag_Y</th>\n",
              "      <th>mtatax_0.0</th>\n",
              "      <th>ratecode_2.0</th>\n",
              "      <th>ratecode_3.0</th>\n",
              "      <th>ratecode_4.0</th>\n",
              "      <th>ratecode_5.0</th>\n",
              "    </tr>\n",
              "  </thead>\n",
              "  <tbody>\n",
              "    <tr>\n",
              "      <th>0</th>\n",
              "      <td>0</td>\n",
              "      <td>1.83</td>\n",
              "      <td>0.70</td>\n",
              "      <td>1.0</td>\n",
              "      <td>0.0</td>\n",
              "      <td>1.0</td>\n",
              "      <td>321.0</td>\n",
              "      <td>0</td>\n",
              "      <td>0</td>\n",
              "      <td>0</td>\n",
              "      <td>0</td>\n",
              "      <td>0</td>\n",
              "      <td>0</td>\n",
              "      <td>0</td>\n",
              "    </tr>\n",
              "    <tr>\n",
              "      <th>1</th>\n",
              "      <td>1</td>\n",
              "      <td>3.56</td>\n",
              "      <td>4.64</td>\n",
              "      <td>1.0</td>\n",
              "      <td>0.0</td>\n",
              "      <td>1.0</td>\n",
              "      <td>990.0</td>\n",
              "      <td>1</td>\n",
              "      <td>0</td>\n",
              "      <td>0</td>\n",
              "      <td>0</td>\n",
              "      <td>0</td>\n",
              "      <td>0</td>\n",
              "      <td>0</td>\n",
              "    </tr>\n",
              "    <tr>\n",
              "      <th>2</th>\n",
              "      <td>2</td>\n",
              "      <td>1.50</td>\n",
              "      <td>1.29</td>\n",
              "      <td>2.0</td>\n",
              "      <td>0.0</td>\n",
              "      <td>0.0</td>\n",
              "      <td>377.0</td>\n",
              "      <td>1</td>\n",
              "      <td>0</td>\n",
              "      <td>0</td>\n",
              "      <td>0</td>\n",
              "      <td>0</td>\n",
              "      <td>0</td>\n",
              "      <td>0</td>\n",
              "    </tr>\n",
              "    <tr>\n",
              "      <th>3</th>\n",
              "      <td>3</td>\n",
              "      <td>1.50</td>\n",
              "      <td>2.74</td>\n",
              "      <td>1.0</td>\n",
              "      <td>0.0</td>\n",
              "      <td>0.0</td>\n",
              "      <td>968.0</td>\n",
              "      <td>1</td>\n",
              "      <td>0</td>\n",
              "      <td>0</td>\n",
              "      <td>0</td>\n",
              "      <td>0</td>\n",
              "      <td>0</td>\n",
              "      <td>0</td>\n",
              "    </tr>\n",
              "    <tr>\n",
              "      <th>4</th>\n",
              "      <td>4</td>\n",
              "      <td>0.00</td>\n",
              "      <td>0.45</td>\n",
              "      <td>6.0</td>\n",
              "      <td>0.0</td>\n",
              "      <td>0.0</td>\n",
              "      <td>162.0</td>\n",
              "      <td>1</td>\n",
              "      <td>0</td>\n",
              "      <td>0</td>\n",
              "      <td>0</td>\n",
              "      <td>0</td>\n",
              "      <td>0</td>\n",
              "      <td>0</td>\n",
              "    </tr>\n",
              "    <tr>\n",
              "      <th>...</th>\n",
              "      <td>...</td>\n",
              "      <td>...</td>\n",
              "      <td>...</td>\n",
              "      <td>...</td>\n",
              "      <td>...</td>\n",
              "      <td>...</td>\n",
              "      <td>...</td>\n",
              "      <td>...</td>\n",
              "      <td>...</td>\n",
              "      <td>...</td>\n",
              "      <td>...</td>\n",
              "      <td>...</td>\n",
              "      <td>...</td>\n",
              "      <td>...</td>\n",
              "    </tr>\n",
              "    <tr>\n",
              "      <th>1048570</th>\n",
              "      <td>1048570</td>\n",
              "      <td>1.00</td>\n",
              "      <td>1.40</td>\n",
              "      <td>1.0</td>\n",
              "      <td>0.0</td>\n",
              "      <td>0.5</td>\n",
              "      <td>475.0</td>\n",
              "      <td>0</td>\n",
              "      <td>0</td>\n",
              "      <td>0</td>\n",
              "      <td>0</td>\n",
              "      <td>0</td>\n",
              "      <td>0</td>\n",
              "      <td>0</td>\n",
              "    </tr>\n",
              "    <tr>\n",
              "      <th>1048571</th>\n",
              "      <td>1048571</td>\n",
              "      <td>0.00</td>\n",
              "      <td>3.60</td>\n",
              "      <td>1.0</td>\n",
              "      <td>0.0</td>\n",
              "      <td>0.0</td>\n",
              "      <td>1397.0</td>\n",
              "      <td>0</td>\n",
              "      <td>0</td>\n",
              "      <td>0</td>\n",
              "      <td>0</td>\n",
              "      <td>0</td>\n",
              "      <td>0</td>\n",
              "      <td>0</td>\n",
              "    </tr>\n",
              "    <tr>\n",
              "      <th>1048572</th>\n",
              "      <td>1048572</td>\n",
              "      <td>2.35</td>\n",
              "      <td>1.70</td>\n",
              "      <td>1.0</td>\n",
              "      <td>0.0</td>\n",
              "      <td>0.5</td>\n",
              "      <td>802.0</td>\n",
              "      <td>0</td>\n",
              "      <td>0</td>\n",
              "      <td>0</td>\n",
              "      <td>0</td>\n",
              "      <td>0</td>\n",
              "      <td>0</td>\n",
              "      <td>0</td>\n",
              "    </tr>\n",
              "    <tr>\n",
              "      <th>1048573</th>\n",
              "      <td>1048573</td>\n",
              "      <td>0.00</td>\n",
              "      <td>1.80</td>\n",
              "      <td>4.0</td>\n",
              "      <td>0.0</td>\n",
              "      <td>1.0</td>\n",
              "      <td>767.0</td>\n",
              "      <td>1</td>\n",
              "      <td>0</td>\n",
              "      <td>0</td>\n",
              "      <td>0</td>\n",
              "      <td>0</td>\n",
              "      <td>0</td>\n",
              "      <td>0</td>\n",
              "    </tr>\n",
              "    <tr>\n",
              "      <th>1048574</th>\n",
              "      <td>1048574</td>\n",
              "      <td>0.00</td>\n",
              "      <td>0.30</td>\n",
              "      <td>1.0</td>\n",
              "      <td>0.0</td>\n",
              "      <td>0.0</td>\n",
              "      <td>166.0</td>\n",
              "      <td>0</td>\n",
              "      <td>0</td>\n",
              "      <td>0</td>\n",
              "      <td>0</td>\n",
              "      <td>0</td>\n",
              "      <td>0</td>\n",
              "      <td>0</td>\n",
              "    </tr>\n",
              "  </tbody>\n",
              "</table>\n",
              "<p>1048052 rows × 14 columns</p>\n",
              "</div>"
            ],
            "text/plain": [
              "              ID  drivertip  distance  ...  ratecode_3.0  ratecode_4.0  ratecode_5.0\n",
              "0              0       1.83      0.70  ...             0             0             0\n",
              "1              1       3.56      4.64  ...             0             0             0\n",
              "2              2       1.50      1.29  ...             0             0             0\n",
              "3              3       1.50      2.74  ...             0             0             0\n",
              "4              4       0.00      0.45  ...             0             0             0\n",
              "...          ...        ...       ...  ...           ...           ...           ...\n",
              "1048570  1048570       1.00      1.40  ...             0             0             0\n",
              "1048571  1048571       0.00      3.60  ...             0             0             0\n",
              "1048572  1048572       2.35      1.70  ...             0             0             0\n",
              "1048573  1048573       0.00      1.80  ...             0             0             0\n",
              "1048574  1048574       0.00      0.30  ...             0             0             0\n",
              "\n",
              "[1048052 rows x 14 columns]"
            ]
          },
          "metadata": {
            "tags": []
          },
          "execution_count": 58
        }
      ]
    },
    {
      "cell_type": "code",
      "metadata": {
        "id": "3sPmV3VRBzy9",
        "colab": {
          "base_uri": "https://localhost:8080/"
        },
        "outputId": "041e063a-0e4d-449f-84bb-69ca646a25ff"
      },
      "source": [
        "#Aplicar modelo no grupo de teste e salvar previsao como saida\n",
        "\n",
        "######## ACHO - usar mesmo scaler para tudo\n",
        "#sc2 = MinMaxScaler()\n",
        "#XNorm = sc2.fit_transform(X) #normalizar todo meu X - parametros para modelo completo\n",
        "\n",
        "# do arquivo test.csv - para fazer minha previsao.... como juntei pra tratar, coloquei uma coluna totalamount falsa\n",
        "# se a coluna ainda estiver lá, eu excluo ela\n",
        "if 'totalamount' in set_test.columns:\n",
        "  set_test = set_test.drop(\"totalamount\", axis=1) # Novo dataframe = antigo sem coluna totalamount\n",
        "\n",
        "#vou fazer um modelo de tudo... sem separar em dois grupos\n",
        "######## ACHO remover essa linha.......... ou vai treinar de novo.... tem que usar o que já treinei\n",
        "#lin_reg = RandomForestRegressor(**params)\n",
        "## fit train and test data. \n",
        "#lin_reg.fit(XNorm, Y) #.flatten() precisa, mas nao aceita\n",
        "\n",
        "set_testNorm = sc.transform(set_test) #normalizar meu X que devo prever para enviar -- do arquivo test.csv\n",
        "predicAnswer = lin_reg.predict(set_testNorm)\n",
        "predicAnswer"
      ],
      "execution_count": null,
      "outputs": [
        {
          "output_type": "execute_result",
          "data": {
            "text/plain": [
              "array([ 7.28791206, 15.26248621, 17.54747008, ...,  9.32346649,\n",
              "       14.49501933, 15.99666603])"
            ]
          },
          "metadata": {
            "tags": []
          },
          "execution_count": 59
        }
      ]
    },
    {
      "cell_type": "code",
      "metadata": {
        "id": "p-7yM0hOM-Lk"
      },
      "source": [
        "#Colocar resultado no formato de arquivo para envio ao Kaggle\n",
        "result = []\n",
        "for idx in range(set_test.shape[0]):\n",
        "  result.append([idx, predicAnswer[idx]])\n",
        "result = pd.DataFrame(result, columns=['ID', 'total_amount'])\n",
        "result.to_csv('result.csv', index=False)"
      ],
      "execution_count": null,
      "outputs": []
    },
    {
      "cell_type": "code",
      "metadata": {
        "id": "YEZJ4FKMNWol",
        "colab": {
          "base_uri": "https://localhost:8080/",
          "height": 419
        },
        "outputId": "9c6758ae-1e0b-411f-8293-85f9c0d079c3"
      },
      "source": [
        "result"
      ],
      "execution_count": null,
      "outputs": [
        {
          "output_type": "execute_result",
          "data": {
            "text/html": [
              "<div>\n",
              "<style scoped>\n",
              "    .dataframe tbody tr th:only-of-type {\n",
              "        vertical-align: middle;\n",
              "    }\n",
              "\n",
              "    .dataframe tbody tr th {\n",
              "        vertical-align: top;\n",
              "    }\n",
              "\n",
              "    .dataframe thead th {\n",
              "        text-align: right;\n",
              "    }\n",
              "</style>\n",
              "<table border=\"1\" class=\"dataframe\">\n",
              "  <thead>\n",
              "    <tr style=\"text-align: right;\">\n",
              "      <th></th>\n",
              "      <th>ID</th>\n",
              "      <th>total_amount</th>\n",
              "    </tr>\n",
              "  </thead>\n",
              "  <tbody>\n",
              "    <tr>\n",
              "      <th>0</th>\n",
              "      <td>0</td>\n",
              "      <td>7.287912</td>\n",
              "    </tr>\n",
              "    <tr>\n",
              "      <th>1</th>\n",
              "      <td>1</td>\n",
              "      <td>15.262486</td>\n",
              "    </tr>\n",
              "    <tr>\n",
              "      <th>2</th>\n",
              "      <td>2</td>\n",
              "      <td>17.547470</td>\n",
              "    </tr>\n",
              "    <tr>\n",
              "      <th>3</th>\n",
              "      <td>3</td>\n",
              "      <td>8.431631</td>\n",
              "    </tr>\n",
              "    <tr>\n",
              "      <th>4</th>\n",
              "      <td>4</td>\n",
              "      <td>7.961609</td>\n",
              "    </tr>\n",
              "    <tr>\n",
              "      <th>...</th>\n",
              "      <td>...</td>\n",
              "      <td>...</td>\n",
              "    </tr>\n",
              "    <tr>\n",
              "      <th>154230</th>\n",
              "      <td>154230</td>\n",
              "      <td>15.342495</td>\n",
              "    </tr>\n",
              "    <tr>\n",
              "      <th>154231</th>\n",
              "      <td>154231</td>\n",
              "      <td>8.499292</td>\n",
              "    </tr>\n",
              "    <tr>\n",
              "      <th>154232</th>\n",
              "      <td>154232</td>\n",
              "      <td>9.323466</td>\n",
              "    </tr>\n",
              "    <tr>\n",
              "      <th>154233</th>\n",
              "      <td>154233</td>\n",
              "      <td>14.495019</td>\n",
              "    </tr>\n",
              "    <tr>\n",
              "      <th>154234</th>\n",
              "      <td>154234</td>\n",
              "      <td>15.996666</td>\n",
              "    </tr>\n",
              "  </tbody>\n",
              "</table>\n",
              "<p>154235 rows × 2 columns</p>\n",
              "</div>"
            ],
            "text/plain": [
              "            ID  total_amount\n",
              "0            0      7.287912\n",
              "1            1     15.262486\n",
              "2            2     17.547470\n",
              "3            3      8.431631\n",
              "4            4      7.961609\n",
              "...        ...           ...\n",
              "154230  154230     15.342495\n",
              "154231  154231      8.499292\n",
              "154232  154232      9.323466\n",
              "154233  154233     14.495019\n",
              "154234  154234     15.996666\n",
              "\n",
              "[154235 rows x 2 columns]"
            ]
          },
          "metadata": {
            "tags": []
          },
          "execution_count": 61
        }
      ]
    },
    {
      "cell_type": "code",
      "metadata": {
        "id": "U16wUAG_xKZe",
        "colab": {
          "base_uri": "https://localhost:8080/"
        },
        "outputId": "e43c38b9-24e9-453a-8978-7353fca8653b"
      },
      "source": [
        "!ls"
      ],
      "execution_count": null,
      "outputs": [
        {
          "output_type": "stream",
          "text": [
            "chh-ola     SampleSubmission.csv  test.csv.zip\ttrain.csv.zip\n",
            "result.csv  test.csv\t\t  train.csv\n"
          ],
          "name": "stdout"
        }
      ]
    }
  ]
}